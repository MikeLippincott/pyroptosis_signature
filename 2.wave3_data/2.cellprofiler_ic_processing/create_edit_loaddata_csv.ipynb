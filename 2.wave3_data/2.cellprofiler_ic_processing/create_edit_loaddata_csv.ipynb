{
 "cells": [
  {
   "attachments": {},
   "cell_type": "markdown",
   "metadata": {},
   "source": [
    "# Create and edit LoadData csv for CellProfiler `illum.cppipe` pipeline - Wave 3"
   ]
  },
  {
   "attachments": {},
   "cell_type": "markdown",
   "metadata": {},
   "source": [
    "## Import libraries"
   ]
  },
  {
   "cell_type": "code",
   "execution_count": 1,
   "metadata": {},
   "outputs": [],
   "source": [
    "import os\n",
    "import pathlib\n",
    "\n",
    "import sys\n",
    "sys.path.append(\"../../utils\")\n",
    "import loaddata_utils as ld"
   ]
  },
  {
   "attachments": {},
   "cell_type": "markdown",
   "metadata": {},
   "source": [
    "## Set paths\n",
    "\n",
    "**Note:** All paths must be absolute since CellProfiler will need to find the images based on your local machine. Please change the `/home/jenna` part of the path to reflect your machine."
   ]
  },
  {
   "cell_type": "code",
   "execution_count": 2,
   "metadata": {},
   "outputs": [],
   "source": [
    "index_directory = pathlib.Path(\"/home/jenna/Interstellar_Project/2.wave3_data/0.download_data/70117_20230118MM1_CellPainting_A700_20X_V1__2023-02-06T09_42_13-Measurement1/Images\")\n",
    "# use config file from previous module since it doesn't change\n",
    "config_path = pathlib.Path(\"/home/jenna/Interstellar_Project/2.wave3_data/1.cellprofiler_quality_control/config.yml\")\n",
    "path_to_output = pathlib.Path(\"/home/jenna/Interstellar_Project/2.wave3_data/2.cellprofiler_ic_processing/wave3_loaddata.csv\")"
   ]
  },
  {
   "attachments": {},
   "cell_type": "markdown",
   "metadata": {},
   "source": [
    "## Create the LoadData csv with illum correction functions"
   ]
  },
  {
   "cell_type": "code",
   "execution_count": 3,
   "metadata": {},
   "outputs": [
    {
     "name": "stdout",
     "output_type": "stream",
     "text": [
      "wave3_loaddata.csv is created!\n"
     ]
    }
   ],
   "source": [
    "ld.create_loaddata_csv(index_directory, config_path, path_to_output)"
   ]
  },
  {
   "cell_type": "code",
   "execution_count": null,
   "metadata": {},
   "outputs": [],
   "source": [
    "import pandas as pd\n",
    "\n",
    "def edit_loaddata_csv(path_to_loaddata_csv:pathlib.Path):\n",
    "    \"\"\"_summary_\n",
    "    \"\"\"\n",
    "    loaddata_df = pd.read_csv(path_to_loaddata_csv)\n",
    "\n",
    "    # finds the last z-plane value and assigns it as a variable \n",
    "    # Metadata_PlaneID values are 1-3 which correlates to the file names p01-p03\n",
    "    final_z = max(loaddata_df[\"Metadata_PlaneID\"].unique())\n",
    "\n",
    "    # create df with only the rows with the last z-plane ID and \n",
    "    loaddata_df = loaddata_df.loc[loaddata_df[\"Metadata_PlaneID\"] == final_z]\n",
    "    loaddata_df = loaddata_df.replace(regex=r\"Images\", value=\"Maximum_Images\")"
   ]
  }
 ],
 "metadata": {
  "kernelspec": {
   "display_name": "pe2loaddata",
   "language": "python",
   "name": "python3"
  },
  "language_info": {
   "codemirror_mode": {
    "name": "ipython",
    "version": 3
   },
   "file_extension": ".py",
   "mimetype": "text/x-python",
   "name": "python",
   "nbconvert_exporter": "python",
   "pygments_lexer": "ipython3",
   "version": "3.9.12"
  },
  "orig_nbformat": 4,
  "vscode": {
   "interpreter": {
    "hash": "8e682b7bd16cdbc4be2393bc1b1eed6b87cf8a0c86d477c0593cdffdecdf8222"
   }
  }
 },
 "nbformat": 4,
 "nbformat_minor": 2
}
