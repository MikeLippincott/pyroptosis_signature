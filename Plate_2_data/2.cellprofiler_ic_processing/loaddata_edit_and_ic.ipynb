{
 "cells": [
  {
   "attachments": {},
   "cell_type": "markdown",
   "metadata": {},
   "source": [
    "# Create and edit LoadData csv and run CellProfiler `illum.cppipe` (IC) pipeline\n",
    "\n",
    "In this notebook, we create a LoadData CSV with the raw data (like in the previous module), but we remove all rows except rows with the last z-plane as the names of the maximum projected images are the same and correct the paths from the raw images to the maximum projected images.\n",
    "\n",
    "We then run the CellProfiler IC pipeline to calculate the illumination correction functions for all images per channel."
   ]
  },
  {
   "attachments": {},
   "cell_type": "markdown",
   "metadata": {},
   "source": [
    "## Import libraries"
   ]
  },
  {
   "cell_type": "code",
   "execution_count": 1,
   "metadata": {},
   "outputs": [],
   "source": [
    "import pathlib\n",
    "\n",
    "import sys\n",
    "sys.path.append(\"../../utils\")\n",
    "import loaddata_utils as ld_utils\n",
    "import cp_utils as cp_utils"
   ]
  },
  {
   "attachments": {},
   "cell_type": "markdown",
   "metadata": {},
   "source": [
    "## Set paths\n",
    "\n",
    "**Note:** All paths must be absolute since CellProfiler will need to find the images based on your local machine. Please change the `/home/jenna` part of the path to reflect your machine."
   ]
  },
  {
   "cell_type": "code",
   "execution_count": 2,
   "metadata": {},
   "outputs": [],
   "source": [
    "# set paths for pe2loaddata\n",
    "## path to raw data with index file\n",
    "index_directory = pathlib.Path(\"../0.download_data/70117_20230210MM1_Gasdermin514_CP_BC430856__2023-03-22T15_42_38-Measurement1/Images/\").absolute()\n",
    "## path to config file (used for all modules)\n",
    "config_path = pathlib.Path(\"../1.cellprofiler_quality_control/config.yml\").absolute()\n",
    "\n",
    "# set paths for CellProfiler\n",
    "path_to_pipeline = pathlib.Path(\"./illum.cppipe\").absolute()\n",
    "## path to folder for IC functions\n",
    "path_to_output = pathlib.Path(\"./illum_directory\").absolute()\n",
    "\n",
    "# path to LoadData CSV used by both pe2loaddata and CellProfiler\n",
    "path_to_output_csv = pathlib.Path(\"./loaddata_with_maxproj.csv\").absolute()"
   ]
  },
  {
   "attachments": {},
   "cell_type": "markdown",
   "metadata": {},
   "source": [
    "## Create the LoadData csv with illum correction functions"
   ]
  },
  {
   "cell_type": "code",
   "execution_count": 3,
   "metadata": {},
   "outputs": [
    {
     "name": "stdout",
     "output_type": "stream",
     "text": [
      "loaddata_with_maxproj.csv is created!\n"
     ]
    }
   ],
   "source": [
    "ld_utils.create_loaddata_csv(\n",
    "    index_directory=index_directory,\n",
    "    config_path=config_path,\n",
    "    path_to_output=path_to_output_csv,\n",
    ")"
   ]
  },
  {
   "attachments": {},
   "cell_type": "markdown",
   "metadata": {},
   "source": [
    "## Edit LoadData csv to remove unnecessary rows and correct paths to images"
   ]
  },
  {
   "cell_type": "code",
   "execution_count": 4,
   "metadata": {},
   "outputs": [
    {
     "name": "stdout",
     "output_type": "stream",
     "text": [
      "loaddata_with_maxproj.csv has been corrected!\n"
     ]
    }
   ],
   "source": [
    "ld_utils.edit_loaddata_csv(path_to_loaddata_csv=path_to_output_csv)"
   ]
  },
  {
   "attachments": {},
   "cell_type": "markdown",
   "metadata": {},
   "source": [
    "## Run `illum.cppipe` pipeline and calculate + save IC functions"
   ]
  },
  {
   "cell_type": "code",
   "execution_count": 5,
   "metadata": {},
   "outputs": [
    {
     "name": "stdout",
     "output_type": "stream",
     "text": [
      "Starting CellProfiler run on loaddata_with_maxproj.csv\n",
      "The CellProfiler run has been completed with loaddata_with_maxproj.csv. Please check log file for any errors.\n"
     ]
    }
   ],
   "source": [
    "# Run CellProfiler on the illum pipeline\n",
    "cp_utils.run_cellprofiler(\n",
    "    path_to_pipeline=path_to_pipeline,\n",
    "    path_to_output=path_to_output,\n",
    "    path_to_loaddata=path_to_output_csv,\n",
    ")"
   ]
  }
 ],
 "metadata": {
  "kernelspec": {
   "display_name": "pe2loaddata",
   "language": "python",
   "name": "python3"
  },
  "language_info": {
   "codemirror_mode": {
    "name": "ipython",
    "version": 3
   },
   "file_extension": ".py",
   "mimetype": "text/x-python",
   "name": "python",
   "nbconvert_exporter": "python",
   "pygments_lexer": "ipython3",
   "version": "3.8.15"
  },
  "orig_nbformat": 4,
  "vscode": {
   "interpreter": {
    "hash": "8e682b7bd16cdbc4be2393bc1b1eed6b87cf8a0c86d477c0593cdffdecdf8222"
   }
  }
 },
 "nbformat": 4,
 "nbformat_minor": 2
}
