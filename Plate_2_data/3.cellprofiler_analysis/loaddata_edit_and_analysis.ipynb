{
 "cells": [
  {
   "attachments": {},
   "cell_type": "markdown",
   "metadata": {},
   "source": [
    "# Create and edit LoadData csv with illumination correction (IC) functions and run CellProfiler `analysis.cppipe` pipeline\n",
    "\n",
    "In this notebook, we create a LoadData CSV with the raw data along with the respective IC functions, remove all rows except rows with the last z-plane, and correct the paths from the raw images to the maximum projected images.\n",
    "\n",
    "We then run the CellProfiler analysis pipeline to perform IC on the images, segmentation, and feature extraction to output CSV files."
   ]
  },
  {
   "attachments": {},
   "cell_type": "markdown",
   "metadata": {},
   "source": [
    "## Import libraries"
   ]
  },
  {
   "cell_type": "code",
   "execution_count": 1,
   "metadata": {},
   "outputs": [],
   "source": [
    "import pathlib\n",
    "\n",
    "import sys\n",
    "sys.path.append(\"../../utils\")\n",
    "import loaddata_utils as ld_utils\n",
    "import cp_utils as cp_utils"
   ]
  },
  {
   "attachments": {},
   "cell_type": "markdown",
   "metadata": {},
   "source": [
    "## Set paths and variables\n",
    "\n",
    "For these paths, we create absolute paths (which has not been tested yet) and then use `resolve()` to avoid using the symlink paths from the `absolute()` function."
   ]
  },
  {
   "cell_type": "code",
   "execution_count": 2,
   "metadata": {},
   "outputs": [],
   "source": [
    "# set paths for pe2loaddata\n",
    "## path to raw data with index file\n",
    "index_directory = pathlib.Path(\"../0.download_data/70117_20230210MM1_Gasdermin514_CP_BC430856__2023-03-22T15_42_38-Measurement1/Images/\").absolute().resolve()\n",
    "## path to config file (used for all modules)\n",
    "config_path = pathlib.Path(\"../1.cellprofiler_quality_control/config.yml\").absolute().resolve()\n",
    "## path for the CSV file without IC (path to old)\n",
    "path_to_output_csv = pathlib.Path(\"./loaddata_no_ic.csv\").absolute().resolve()\n",
    "## path to directory with IC functions (npy files)\n",
    "illum_directory = pathlib.Path(\"../2.cellprofiler_ic_processing/illum_directory\").absolute().resolve()\n",
    "## plate ID from the names of the IC functions\n",
    "plate_id = \"*70117_20230210MM1_Gasdermin514_CP_BC430856\""
   ]
  },
  {
   "cell_type": "code",
   "execution_count": 3,
   "metadata": {},
   "outputs": [],
   "source": [
    "# set paths and variables to split the LoadData CSV by cell type\n",
    "output_dir = pathlib.Path(\"./loaddata_by_celltype/\").absolute().resolve()\n",
    "col_metadata_name = \"Metadata_Col\"\n",
    "col_val_to_split = 12\n",
    "first_csv_name = \"loaddata_PBMC_with_illum\"\n",
    "second_csv_name = \"loaddata_SHSY5Y_with_illum\""
   ]
  },
  {
   "cell_type": "code",
   "execution_count": 4,
   "metadata": {},
   "outputs": [],
   "source": [
    "# set path to LoadData CSV with IC function used by pe2loaddata and split function\n",
    "path_to_output_with_illum_csv = pathlib.Path(\"./loaddata_with_illum.csv\").absolute().resolve()"
   ]
  },
  {
   "cell_type": "code",
   "execution_count": 5,
   "metadata": {},
   "outputs": [],
   "source": [
    "# set paths for CellProfiler\n",
    "## path to folder for IC functions\n",
    "path_to_output = pathlib.Path(\"./analysis_output/\").absolute().resolve()\n",
    "## hardcoded name for output\n",
    "hardcode_sqlite_name = \"interstellar_plate2\"\n",
    "\n",
    "## dictionary with paths for each cell type \n",
    "celltype_info_dictionary = {\n",
    "    \"SHSY5Y_cells\": {\n",
    "        \"path_to_pipeline\": pathlib.Path(\"./pipelines/SHSY5Y_analysis.cppipe\").absolute().resolve(),\n",
    "        \"path_to_loaddata\": pathlib.Path(\"./loaddata_by_celltype/loaddata_SHSY5Y_with_illum.csv\").absolute().resolve(),\n",
    "    },\n",
    "    \"PBMC_cells\": {\n",
    "        \"path_to_pipeline\": pathlib.Path(\"./pipelines/PBMC_analysis.cppipe\").absolute().resolve(), \n",
    "        \"path_to_loaddata\": pathlib.Path(\"./loaddata_by_celltype/loaddata_PBMC_with_illum.csv\").absolute().resolve(),\n",
    "    },\n",
    "}"
   ]
  },
  {
   "attachments": {},
   "cell_type": "markdown",
   "metadata": {},
   "source": [
    "## Create the LoadData csv with illum correction functions"
   ]
  },
  {
   "cell_type": "code",
   "execution_count": 6,
   "metadata": {},
   "outputs": [
    {
     "name": "stdout",
     "output_type": "stream",
     "text": [
      "loaddata_with_illum.csv is created!\n",
      "The loaddata_no_ic.csv CSV file has been removed as it does not contain the IC functions.\n"
     ]
    }
   ],
   "source": [
    "ld_utils.create_loaddata_illum_csv(\n",
    "    index_directory=index_directory,\n",
    "    config_path=config_path,\n",
    "    path_to_output=path_to_output_csv,\n",
    "    illum_directory=illum_directory,\n",
    "    plate_id=plate_id,\n",
    "    illum_output_path=path_to_output_with_illum_csv\n",
    ")"
   ]
  },
  {
   "attachments": {},
   "cell_type": "markdown",
   "metadata": {},
   "source": [
    "## Edit LoadData CSV with IC functions to remove unnecessary rows and correct paths to max projection images"
   ]
  },
  {
   "cell_type": "code",
   "execution_count": 7,
   "metadata": {},
   "outputs": [
    {
     "name": "stdout",
     "output_type": "stream",
     "text": [
      "loaddata_with_illum.csv has been corrected!\n"
     ]
    }
   ],
   "source": [
    "ld_utils.edit_loaddata_csv(path_to_loaddata_csv=path_to_output_with_illum_csv)"
   ]
  },
  {
   "attachments": {},
   "cell_type": "markdown",
   "metadata": {},
   "source": [
    "## Split the corrected LoadData CSV by cell type\n",
    "\n",
    "Since each cell type differ greatly in shape and size, we need to run separate CellProfiler pipelines as the segmentation parameters will be need to be optimized for each."
   ]
  },
  {
   "cell_type": "code",
   "execution_count": 8,
   "metadata": {},
   "outputs": [
    {
     "name": "stdout",
     "output_type": "stream",
     "text": [
      "loaddata_with_illum.csv has been split into loaddata_PBMC_with_illum.csv and loaddata_SHSY5Y_with_illum.csv!\n"
     ]
    }
   ],
   "source": [
    "ld_utils.split_loaddata_csv_by_col(\n",
    "    path_to_loadata=path_to_output_with_illum_csv,\n",
    "    output_dir=output_dir,\n",
    "    col_metadata_name=col_metadata_name,\n",
    "    col_val_to_split=col_val_to_split,\n",
    "    first_csv_name=first_csv_name,\n",
    "    second_csv_name=second_csv_name,\n",
    ")"
   ]
  },
  {
   "attachments": {},
   "cell_type": "markdown",
   "metadata": {},
   "source": [
    "## Run CellProfiler analysis pipeline for each cell type\n",
    "\n",
    "In this notebook, we do not run the full pipelines as we use the python file to complete the whole run."
   ]
  },
  {
   "cell_type": "code",
   "execution_count": 9,
   "metadata": {},
   "outputs": [
    {
     "name": "stdout",
     "output_type": "stream",
     "text": [
      "Running analysis on SHSY5Y_cells!\n",
      "Starting CellProfiler run on loaddata_SHSY5Y_with_illum.csv\n"
     ]
    },
    {
     "ename": "KeyboardInterrupt",
     "evalue": "",
     "output_type": "error",
     "traceback": [
      "\u001b[0;31m---------------------------------------------------------------------------\u001b[0m",
      "\u001b[0;31mKeyboardInterrupt\u001b[0m                         Traceback (most recent call last)",
      "Cell \u001b[0;32mIn[9], line 8\u001b[0m\n\u001b[1;32m      5\u001b[0m \u001b[39mprint\u001b[39m(\u001b[39mf\u001b[39m\u001b[39m\"\u001b[39m\u001b[39mRunning analysis on \u001b[39m\u001b[39m{\u001b[39;00mcell_type\u001b[39m}\u001b[39;00m\u001b[39m!\u001b[39m\u001b[39m\"\u001b[39m)\n\u001b[1;32m      7\u001b[0m \u001b[39m# run analysis pipeline\u001b[39;00m\n\u001b[0;32m----> 8\u001b[0m cp_utils\u001b[39m.\u001b[39;49mrun_cellprofiler(\n\u001b[1;32m      9\u001b[0m     path_to_pipeline\u001b[39m=\u001b[39;49mpath_to_pipeline,\n\u001b[1;32m     10\u001b[0m     path_to_output\u001b[39m=\u001b[39;49mpath_to_output,\n\u001b[1;32m     11\u001b[0m     path_to_loaddata\u001b[39m=\u001b[39;49mpath_to_loaddata,\n\u001b[1;32m     12\u001b[0m     \u001b[39m# name each SQLite file name from each CellProfiler pipeline\u001b[39;49;00m\n\u001b[1;32m     13\u001b[0m     sqlite_name\u001b[39m=\u001b[39;49mcell_type,\n\u001b[1;32m     14\u001b[0m     \u001b[39m# make analysis_run True to run an analysis pipeline\u001b[39;49;00m\n\u001b[1;32m     15\u001b[0m     analysis_run\u001b[39m=\u001b[39;49m\u001b[39mTrue\u001b[39;49;00m,\n\u001b[1;32m     16\u001b[0m )\n",
      "File \u001b[0;32m~/pyroptosis_signature/Plate_2_data/3.cellprofiler_analysis/../../utils/cp_utils.py:140\u001b[0m, in \u001b[0;36mrun_cellprofiler\u001b[0;34m(path_to_pipeline, path_to_output, path_to_loaddata, sqlite_name, hardcode_sqlite_name, analysis_run, rename_sqlite_file)\u001b[0m\n\u001b[1;32m    130\u001b[0m \u001b[39m# a log file is created for each plate or data set name that holds all outputs and errors\u001b[39;00m\n\u001b[1;32m    131\u001b[0m \u001b[39mwith\u001b[39;00m \u001b[39mopen\u001b[39m(\n\u001b[1;32m    132\u001b[0m     pathlib\u001b[39m.\u001b[39mPath(\n\u001b[1;32m    133\u001b[0m         \u001b[39mf\u001b[39m\u001b[39m\"\u001b[39m\u001b[39mlogs/cellprofiler_output_\u001b[39m\u001b[39m{\u001b[39;00mpathlib\u001b[39m.\u001b[39mPath(path_to_loaddata)\u001b[39m.\u001b[39mname\u001b[39m}\u001b[39;00m\u001b[39m.log\u001b[39m\u001b[39m\"\u001b[39m\n\u001b[0;32m   (...)\u001b[0m\n\u001b[1;32m    136\u001b[0m ) \u001b[39mas\u001b[39;00m cellprofiler_output_file:\n\u001b[1;32m    137\u001b[0m     \u001b[39m# run CellProfiler for an analysis run\u001b[39;00m\n\u001b[1;32m    138\u001b[0m     command \u001b[39m=\u001b[39m [\n\u001b[1;32m    139\u001b[0m         \u001b[39m\"\u001b[39m\u001b[39mcellprofiler\u001b[39m\u001b[39m\"\u001b[39m,\n\u001b[0;32m--> 140\u001b[0m         \u001b[39m\"\u001b[39m\u001b[39m-c\u001b[39m\u001b[39m\"\u001b[39m,\n\u001b[1;32m    141\u001b[0m         \u001b[39m\"\u001b[39m\u001b[39m-r\u001b[39m\u001b[39m\"\u001b[39m,\n\u001b[1;32m    142\u001b[0m         \u001b[39m\"\u001b[39m\u001b[39m-p\u001b[39m\u001b[39m\"\u001b[39m,\n\u001b[1;32m    143\u001b[0m         path_to_pipeline,\n\u001b[1;32m    144\u001b[0m         \u001b[39m\"\u001b[39m\u001b[39m-o\u001b[39m\u001b[39m\"\u001b[39m,\n\u001b[1;32m    145\u001b[0m         path_to_output,\n\u001b[1;32m    146\u001b[0m         \u001b[39m\"\u001b[39m\u001b[39m--data-file\u001b[39m\u001b[39m\"\u001b[39m,\n\u001b[1;32m    147\u001b[0m         path_to_loaddata,\n\u001b[1;32m    148\u001b[0m     ]\n\u001b[1;32m    149\u001b[0m     subprocess\u001b[39m.\u001b[39mrun(\n\u001b[1;32m    150\u001b[0m         command,\n\u001b[1;32m    151\u001b[0m         stdout\u001b[39m=\u001b[39mcellprofiler_output_file,\n\u001b[1;32m    152\u001b[0m         stderr\u001b[39m=\u001b[39mcellprofiler_output_file,\n\u001b[1;32m    153\u001b[0m         check\u001b[39m=\u001b[39m\u001b[39mTrue\u001b[39;00m,\n\u001b[1;32m    154\u001b[0m     )\n\u001b[1;32m    155\u001b[0m     \u001b[39mprint\u001b[39m(\n\u001b[1;32m    156\u001b[0m         \u001b[39mf\u001b[39m\u001b[39m\"\u001b[39m\u001b[39mThe CellProfiler run has been completed with \u001b[39m\u001b[39m{\u001b[39;00mpathlib\u001b[39m.\u001b[39mPath(path_to_loaddata)\u001b[39m.\u001b[39mname\u001b[39m}\u001b[39;00m\u001b[39m. Please check log file for any errors.\u001b[39m\u001b[39m\"\u001b[39m\n\u001b[1;32m    157\u001b[0m     )\n",
      "File \u001b[0;32m~/anaconda3/envs/interstellar_data/lib/python3.8/subprocess.py:495\u001b[0m, in \u001b[0;36mrun\u001b[0;34m(input, capture_output, timeout, check, *popenargs, **kwargs)\u001b[0m\n\u001b[1;32m    493\u001b[0m \u001b[39mwith\u001b[39;00m Popen(\u001b[39m*\u001b[39mpopenargs, \u001b[39m*\u001b[39m\u001b[39m*\u001b[39mkwargs) \u001b[39mas\u001b[39;00m process:\n\u001b[1;32m    494\u001b[0m     \u001b[39mtry\u001b[39;00m:\n\u001b[0;32m--> 495\u001b[0m         stdout, stderr \u001b[39m=\u001b[39m process\u001b[39m.\u001b[39;49mcommunicate(\u001b[39minput\u001b[39;49m, timeout\u001b[39m=\u001b[39;49mtimeout)\n\u001b[1;32m    496\u001b[0m     \u001b[39mexcept\u001b[39;00m TimeoutExpired \u001b[39mas\u001b[39;00m exc:\n\u001b[1;32m    497\u001b[0m         process\u001b[39m.\u001b[39mkill()\n",
      "File \u001b[0;32m~/anaconda3/envs/interstellar_data/lib/python3.8/subprocess.py:1020\u001b[0m, in \u001b[0;36mPopen.communicate\u001b[0;34m(self, input, timeout)\u001b[0m\n\u001b[1;32m   1018\u001b[0m         stderr \u001b[39m=\u001b[39m \u001b[39mself\u001b[39m\u001b[39m.\u001b[39mstderr\u001b[39m.\u001b[39mread()\n\u001b[1;32m   1019\u001b[0m         \u001b[39mself\u001b[39m\u001b[39m.\u001b[39mstderr\u001b[39m.\u001b[39mclose()\n\u001b[0;32m-> 1020\u001b[0m     \u001b[39mself\u001b[39;49m\u001b[39m.\u001b[39;49mwait()\n\u001b[1;32m   1021\u001b[0m \u001b[39melse\u001b[39;00m:\n\u001b[1;32m   1022\u001b[0m     \u001b[39mif\u001b[39;00m timeout \u001b[39mis\u001b[39;00m \u001b[39mnot\u001b[39;00m \u001b[39mNone\u001b[39;00m:\n",
      "File \u001b[0;32m~/anaconda3/envs/interstellar_data/lib/python3.8/subprocess.py:1083\u001b[0m, in \u001b[0;36mPopen.wait\u001b[0;34m(self, timeout)\u001b[0m\n\u001b[1;32m   1081\u001b[0m     endtime \u001b[39m=\u001b[39m _time() \u001b[39m+\u001b[39m timeout\n\u001b[1;32m   1082\u001b[0m \u001b[39mtry\u001b[39;00m:\n\u001b[0;32m-> 1083\u001b[0m     \u001b[39mreturn\u001b[39;00m \u001b[39mself\u001b[39;49m\u001b[39m.\u001b[39;49m_wait(timeout\u001b[39m=\u001b[39;49mtimeout)\n\u001b[1;32m   1084\u001b[0m \u001b[39mexcept\u001b[39;00m \u001b[39mKeyboardInterrupt\u001b[39;00m:\n\u001b[1;32m   1085\u001b[0m     \u001b[39m# https://bugs.python.org/issue25942\u001b[39;00m\n\u001b[1;32m   1086\u001b[0m     \u001b[39m# The first keyboard interrupt waits briefly for the child to\u001b[39;00m\n\u001b[1;32m   1087\u001b[0m     \u001b[39m# exit under the common assumption that it also received the ^C\u001b[39;00m\n\u001b[1;32m   1088\u001b[0m     \u001b[39m# generated SIGINT and will exit rapidly.\u001b[39;00m\n\u001b[1;32m   1089\u001b[0m     \u001b[39mif\u001b[39;00m timeout \u001b[39mis\u001b[39;00m \u001b[39mnot\u001b[39;00m \u001b[39mNone\u001b[39;00m:\n",
      "File \u001b[0;32m~/anaconda3/envs/interstellar_data/lib/python3.8/subprocess.py:1806\u001b[0m, in \u001b[0;36mPopen._wait\u001b[0;34m(self, timeout)\u001b[0m\n\u001b[1;32m   1804\u001b[0m \u001b[39mif\u001b[39;00m \u001b[39mself\u001b[39m\u001b[39m.\u001b[39mreturncode \u001b[39mis\u001b[39;00m \u001b[39mnot\u001b[39;00m \u001b[39mNone\u001b[39;00m:\n\u001b[1;32m   1805\u001b[0m     \u001b[39mbreak\u001b[39;00m  \u001b[39m# Another thread waited.\u001b[39;00m\n\u001b[0;32m-> 1806\u001b[0m (pid, sts) \u001b[39m=\u001b[39m \u001b[39mself\u001b[39;49m\u001b[39m.\u001b[39;49m_try_wait(\u001b[39m0\u001b[39;49m)\n\u001b[1;32m   1807\u001b[0m \u001b[39m# Check the pid and loop as waitpid has been known to\u001b[39;00m\n\u001b[1;32m   1808\u001b[0m \u001b[39m# return 0 even without WNOHANG in odd situations.\u001b[39;00m\n\u001b[1;32m   1809\u001b[0m \u001b[39m# http://bugs.python.org/issue14396.\u001b[39;00m\n\u001b[1;32m   1810\u001b[0m \u001b[39mif\u001b[39;00m pid \u001b[39m==\u001b[39m \u001b[39mself\u001b[39m\u001b[39m.\u001b[39mpid:\n",
      "File \u001b[0;32m~/anaconda3/envs/interstellar_data/lib/python3.8/subprocess.py:1764\u001b[0m, in \u001b[0;36mPopen._try_wait\u001b[0;34m(self, wait_flags)\u001b[0m\n\u001b[1;32m   1762\u001b[0m \u001b[39m\u001b[39m\u001b[39m\"\"\"All callers to this function MUST hold self._waitpid_lock.\"\"\"\u001b[39;00m\n\u001b[1;32m   1763\u001b[0m \u001b[39mtry\u001b[39;00m:\n\u001b[0;32m-> 1764\u001b[0m     (pid, sts) \u001b[39m=\u001b[39m os\u001b[39m.\u001b[39;49mwaitpid(\u001b[39mself\u001b[39;49m\u001b[39m.\u001b[39;49mpid, wait_flags)\n\u001b[1;32m   1765\u001b[0m \u001b[39mexcept\u001b[39;00m \u001b[39mChildProcessError\u001b[39;00m:\n\u001b[1;32m   1766\u001b[0m     \u001b[39m# This happens if SIGCLD is set to be ignored or waiting\u001b[39;00m\n\u001b[1;32m   1767\u001b[0m     \u001b[39m# for child processes has otherwise been disabled for our\u001b[39;00m\n\u001b[1;32m   1768\u001b[0m     \u001b[39m# process.  This child is dead, we can't get the status.\u001b[39;00m\n\u001b[1;32m   1769\u001b[0m     pid \u001b[39m=\u001b[39m \u001b[39mself\u001b[39m\u001b[39m.\u001b[39mpid\n",
      "\u001b[0;31mKeyboardInterrupt\u001b[0m: "
     ]
    }
   ],
   "source": [
    "# run through each plate with each set of paths based on dictionary\n",
    "for cell_type, info in celltype_info_dictionary.items():\n",
    "    path_to_pipeline = info[\"path_to_pipeline\"]\n",
    "    path_to_loaddata = info[\"path_to_loaddata\"]\n",
    "    print(f\"Running analysis on {cell_type}!\")\n",
    "\n",
    "    # run analysis pipeline\n",
    "    cp_utils.run_cellprofiler(\n",
    "        path_to_pipeline=path_to_pipeline,\n",
    "        path_to_output=path_to_output,\n",
    "        path_to_loaddata=path_to_loaddata,\n",
    "        # name each SQLite file name from each CellProfiler pipeline\n",
    "        sqlite_name=cell_type,\n",
    "        # make analysis_run True to run an analysis pipeline\n",
    "        analysis_run=True,\n",
    "    )"
   ]
  }
 ],
 "metadata": {
  "kernelspec": {
   "display_name": "interstellar_data",
   "language": "python",
   "name": "python3"
  },
  "language_info": {
   "codemirror_mode": {
    "name": "ipython",
    "version": 3
   },
   "file_extension": ".py",
   "mimetype": "text/x-python",
   "name": "python",
   "nbconvert_exporter": "python",
   "pygments_lexer": "ipython3",
   "version": "3.8.15"
  },
  "orig_nbformat": 4,
  "vscode": {
   "interpreter": {
    "hash": "81d75d885d2ea0d6e4463847eda8ca25badfb37040b8b8c25aecaa84e569f150"
   }
  }
 },
 "nbformat": 4,
 "nbformat_minor": 2
}
