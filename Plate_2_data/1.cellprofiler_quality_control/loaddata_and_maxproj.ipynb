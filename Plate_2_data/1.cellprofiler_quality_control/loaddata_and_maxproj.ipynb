{
 "cells": [
  {
   "attachments": {},
   "cell_type": "markdown",
   "metadata": {},
   "source": [
    "# Create LoadData csv and run CellProfiler `zproj.cppipe` pipeline - Plate 2\n",
    "\n",
    "This notebook creates a loaddata CSV (`load_data_without_projection.csv`) and use the CSV to execute the `zproj.cppipe` pipeline and output a new image dataset of maximum projection images for the whole plate."
   ]
  },
  {
   "attachments": {},
   "cell_type": "markdown",
   "metadata": {},
   "source": [
    "## Import libraries"
   ]
  },
  {
   "cell_type": "code",
   "execution_count": 1,
   "metadata": {},
   "outputs": [],
   "source": [
    "import os\n",
    "import pathlib\n",
    "\n",
    "import sys\n",
    "sys.path.append(\"../../utils/\")\n",
    "import loaddata_utils as ld_utils\n",
    "import cp_utils as cp_utils"
   ]
  },
  {
   "attachments": {},
   "cell_type": "markdown",
   "metadata": {},
   "source": [
    "## Set paths"
   ]
  },
  {
   "cell_type": "code",
   "execution_count": 2,
   "metadata": {},
   "outputs": [],
   "source": [
    "# set paths for pe2loaddata\n",
    "index_directory = pathlib.Path(\"../0.download_data/70117_20230210MM1_Gasdermin514_CP_BC430856__2023-03-22T15_42_38-Measurement1/Images/\").absolute()\n",
    "config_path = pathlib.Path(\"./config.yml\").absolute()\n",
    "\n",
    "# set paths for CellProfiler\n",
    "path_to_pipeline = pathlib.Path(\"./zproj.cppipe\").absolute()\n",
    "path_to_output = pathlib.Path(\"../0.download_data/70117_20230210MM1_Gasdermin514_CP_BC430856__2023-03-22T15_42_38-Measurement1/Maximum_Images/\").absolute()\n",
    "\n",
    "# path to LoadData CSV used by both pe2loaddata and CellProfiler\n",
    "path_to_output_csv = pathlib.Path(\"./loaddata_without_projection.csv\").absolute()"
   ]
  },
  {
   "attachments": {},
   "cell_type": "markdown",
   "metadata": {},
   "source": [
    "## Create the LoadData csv"
   ]
  },
  {
   "cell_type": "code",
   "execution_count": 3,
   "metadata": {},
   "outputs": [
    {
     "name": "stdout",
     "output_type": "stream",
     "text": [
      "loaddata_without_projection.csv is created!\n"
     ]
    }
   ],
   "source": [
    "ld_utils.create_loaddata_csv(\n",
    "    index_directory=index_directory,\n",
    "    config_path=config_path,\n",
    "    path_to_output=path_to_output_csv,\n",
    ")"
   ]
  },
  {
   "attachments": {},
   "cell_type": "markdown",
   "metadata": {},
   "source": [
    "## Run `zproj.cppipe` pipeline in CellProfiler\n",
    "\n",
    "This code cell was ran but log file was not created yet. Output was cleared to avoid very long output (over 220,000 lines)."
   ]
  },
  {
   "cell_type": "code",
   "execution_count": null,
   "metadata": {},
   "outputs": [],
   "source": [
    "cp_utils.run_cellprofiler(\n",
    "    path_to_pipeline=path_to_pipeline,\n",
    "    path_to_output=path_to_output,\n",
    "    path_to_loaddata=path_to_output_csv,\n",
    ")"
   ]
  }
 ],
 "metadata": {
  "kernelspec": {
   "display_name": "pe2loaddata",
   "language": "python",
   "name": "python3"
  },
  "language_info": {
   "codemirror_mode": {
    "name": "ipython",
    "version": 3
   },
   "file_extension": ".py",
   "mimetype": "text/x-python",
   "name": "python",
   "nbconvert_exporter": "python",
   "pygments_lexer": "ipython3",
   "version": "3.8.15"
  },
  "orig_nbformat": 4,
  "vscode": {
   "interpreter": {
    "hash": "8e682b7bd16cdbc4be2393bc1b1eed6b87cf8a0c86d477c0593cdffdecdf8222"
   }
  }
 },
 "nbformat": 4,
 "nbformat_minor": 2
}
