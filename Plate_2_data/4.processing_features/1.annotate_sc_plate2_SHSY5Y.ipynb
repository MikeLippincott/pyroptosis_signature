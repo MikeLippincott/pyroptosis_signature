{
 "cells": [
  {
   "attachments": {},
   "cell_type": "markdown",
   "metadata": {},
   "source": [
    "# Annotate merged single cells with metadata from platemap file"
   ]
  },
  {
   "attachments": {},
   "cell_type": "markdown",
   "metadata": {},
   "source": [
    "## Import libraries"
   ]
  },
  {
   "cell_type": "code",
   "execution_count": null,
   "metadata": {},
   "outputs": [],
   "source": [
    "import sys\n",
    "import pathlib\n",
    "\n",
    "import pandas as pd\n",
    "from pycytominer import annotate\n",
    "from pycytominer.cyto_utils import output"
   ]
  },
  {
   "attachments": {},
   "cell_type": "markdown",
   "metadata": {},
   "source": [
    "## Set paths and variables"
   ]
  },
  {
   "cell_type": "code",
   "execution_count": null,
   "metadata": {},
   "outputs": [],
   "source": [
    "# load in platemap file as a pandas dataframe\n",
    "platemap_path = pathlib.Path(\"../../metadata/Interstellar_plate2_platemap.csv\")\n",
    "platemap_df = pd.read_csv(platemap_path)\n",
    "\n",
    "# directory where parquet files are located\n",
    "data_dir = pathlib.Path(\"./data/converted_data\")\n",
    "\n",
    "# directory where the annotated parquet files are saved to\n",
    "output_dir = pathlib.Path(\"./data/annotated_data\")\n",
    "output_dir.mkdir(exist_ok=True)"
   ]
  },
  {
   "cell_type": "code",
   "execution_count": null,
   "metadata": {},
   "outputs": [],
   "source": [
    "# dictionary with each run for the cell type\n",
    "# dictionary with path to the parquet file from each run\n",
    "run_info_dictionary = {\n",
    "    \"batch_1\": {\n",
    "        # path to outputted parquet file\n",
    "        \"single_cell_path\": str(\n",
    "            pathlib.Path(\n",
    "                f\"{data_dir}/SHSY5Y_batch_1.parquet\"\n",
    "            )\n",
    "        ),\n",
    "    },\n",
    "    \"batch_2\": {\n",
    "        # path to outputted parquet file\n",
    "        \"single_cell_path\": str(\n",
    "            pathlib.Path(\n",
    "                f\"{data_dir}/SHSY5Y_batch_2.parquet\"\n",
    "            )\n",
    "        )\n",
    "    },\n",
    "}"
   ]
  },
  {
   "attachments": {},
   "cell_type": "markdown",
   "metadata": {},
   "source": [
    "## Annotate merged single cells"
   ]
  },
  {
   "cell_type": "code",
   "execution_count": null,
   "metadata": {},
   "outputs": [],
   "source": [
    "for SHSY5Y_run, info in run_info_dictionary.items():\n",
    "    # load in converted parquet file as df to use in annotate function\n",
    "    single_cell_df = pd.read_parquet(info[\"single_cell_path\"])\n",
    "    output_file = str(pathlib.Path(f\"{output_dir}/{SHSY5Y_run}_sc_SHSY5Y.parquet\"))\n",
    "    print(f\"Adding annotations to merged single cells for {SHSY5Y_run}!\")\n",
    "\n",
    "    # add metadata from platemap file to extracted single cell features\n",
    "    annotated_df = annotate(\n",
    "        profiles=single_cell_df,\n",
    "        platemap=platemap_df,\n",
    "        join_on=[\"Metadata_well_id\", \"Image_Metadata_Well\"],\n",
    "    )\n",
    "\n",
    "    # move metadata well and single cell count to the front of the df (for easy visualization in python)\n",
    "    well_column = annotated_df.pop(\"Metadata_Well\")\n",
    "    singlecell_column = annotated_df.pop(\"Metadata_number_of_singlecells\")\n",
    "    # insert the column as the second index column in the dataframe\n",
    "    annotated_df.insert(1, \"Metadata_Well\", well_column)\n",
    "    annotated_df.insert(2, \"Metadata_number_of_singlecells\", singlecell_column)\n",
    "\n",
    "    # save annotated df as parquet file\n",
    "    output(\n",
    "        df=annotated_df,\n",
    "        output_filename=output_file,\n",
    "        output_type=\"parquet\",\n",
    "    )\n",
    "    print(f\"Annotations have been added to {SHSY5Y_run} and saved!\")"
   ]
  },
  {
   "cell_type": "code",
   "execution_count": null,
   "metadata": {},
   "outputs": [],
   "source": [
    "# check last annotated df to see if it has been annotated correctly\n",
    "print(annotated_df.shape)\n",
    "annotated_df.head()"
   ]
  }
 ],
 "metadata": {
  "kernelspec": {
   "display_name": "interstellar_data",
   "language": "python",
   "name": "python3"
  },
  "language_info": {
   "codemirror_mode": {
    "name": "ipython",
    "version": 3
   },
   "file_extension": ".py",
   "mimetype": "text/x-python",
   "name": "python",
   "nbconvert_exporter": "python",
   "pygments_lexer": "ipython3",
   "version": "3.8.15"
  },
  "orig_nbformat": 4
 },
 "nbformat": 4,
 "nbformat_minor": 2
}
