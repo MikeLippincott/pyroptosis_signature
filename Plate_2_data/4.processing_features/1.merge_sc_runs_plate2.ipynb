{
 "cells": [
  {
   "cell_type": "code",
   "execution_count": null,
   "metadata": {},
   "outputs": [],
   "source": [
    "import pandas as pd\n",
    "import parquet as pq\n",
    "import pathlib"
   ]
  },
  {
   "cell_type": "code",
   "execution_count": null,
   "metadata": {},
   "outputs": [],
   "source": [
    "# merge single cell parquet files from each run into one file\n",
    "input_dir = pathlib.Path(\"./data\")\n",
    "output_dir = pathlib.Path(\"./data\")\n",
    "first_run_sc_path = pathlib.Path(f\"{input_dir}/SHSY5Y_first_run.parquet\")\n",
    "second_run_sc_path = pathlib.Path(f\"{input_dir}/SHSY5Y_second_run.parquet\")\n",
    "merged_runs = pathlib.Path(f\"{output_dir}/SHSY5Y_sc.parquet\")\n",
    "\n",
    "# read parquet files into pandas dataframes\n",
    "first_run_sc = pq.read_table(first_run_sc_path).to_pandas()\n",
    "second_run_sc = pq.read_table(second_run_sc_path).to_pandas()\n",
    "\n",
    "# concatenate dataframes and save as parquet file\n",
    "SHSY5Y_run_sc = pd.concat([first_run_sc, second_run_sc], ignore_index=True)\n",
    "pq.write_table(SHSY5Y_run_sc, merged_runs)"
   ]
  }
 ],
 "metadata": {
  "language_info": {
   "name": "python"
  },
  "orig_nbformat": 4
 },
 "nbformat": 4,
 "nbformat_minor": 2
}
