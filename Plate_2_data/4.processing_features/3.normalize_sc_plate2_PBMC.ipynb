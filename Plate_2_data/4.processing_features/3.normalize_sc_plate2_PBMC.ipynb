{
 "cells": [
  {
   "attachments": {},
   "cell_type": "markdown",
   "metadata": {},
   "source": [
    "# Normalize annotated single cells using negative control (DSMO 0.025% and DMSO 0.100%)"
   ]
  },
  {
   "attachments": {},
   "cell_type": "markdown",
   "metadata": {},
   "source": [
    "## Import libraries"
   ]
  },
  {
   "cell_type": "code",
   "execution_count": null,
   "metadata": {},
   "outputs": [],
   "source": [
    "import pathlib\n",
    "import pandas as pd\n",
    "\n",
    "from pycytominer import normalize\n",
    "from pycytominer.cyto_utils import output"
   ]
  },
  {
   "attachments": {},
   "cell_type": "markdown",
   "metadata": {},
   "source": [
    "## Set paths and variables"
   ]
  },
  {
   "cell_type": "code",
   "execution_count": null,
   "metadata": {},
   "outputs": [],
   "source": [
    "# directory where combined parquet file are located\n",
    "data_dir = pathlib.Path(\"./data/combined_data\")\n",
    "\n",
    "# directory where the normalized parquet file is saved to\n",
    "output_dir = pathlib.Path(\"./data/normalized_data\")\n",
    "output_dir.mkdir(exist_ok=True)\n",
    "\n",
    "# define input path for combined annotated parquet file\n",
    "combined_file_path = str(pathlib.Path(f\"{data_dir}/PBMC_sc.parquet\"))\n",
    "\n",
    "# define ouput path for normalized parquet file\n",
    "normalized_output_file = str(pathlib.Path(f\"{output_dir}/PBMC_sc_norm.parquet\"))"
   ]
  },
  {
   "attachments": {},
   "cell_type": "markdown",
   "metadata": {},
   "source": [
    "## Normalize with standardize method with negative control on annotated data"
   ]
  },
  {
   "cell_type": "code",
   "execution_count": 3,
   "metadata": {},
   "outputs": [],
   "source": [
    "# read in annotated single cell data\n",
    "combined_df = pd.read_parquet(combined_file_path)\n",
    "print(\"Normalizing annotated merged single cells!\")\n",
    "\n",
    "# normalize annotated data\n",
    "normalized_df = normalize(\n",
    "        # df with annotated raw merged single cell features\n",
    "        profiles=combined_df,\n",
    "        # specify samples used as normalization reference (negative control)\n",
    "        samples=\"Metadata_inhibitor == 'DMSO' and Metadata_inhibitor_concentration == 0.025 and Metadata_inducer1 == 'DMSO'\",\n",
    "        # normalization method used\n",
    "        method=\"standardize\",\n",
    ")\n",
    "\n",
    "# save df as parquet file\n",
    "output(\n",
    "    df=normalized_df,\n",
    "    output_filename=normalized_output_file,\n",
    "    output_type=\"parquet\",\n",
    ")\n",
    "print(f\"Single cells have been normalized for PBMC cells and saved to {pathlib.Path(normalized_output_file).name} !\")"
   ]
  },
  {
   "cell_type": "code",
   "execution_count": null,
   "metadata": {},
   "outputs": [],
   "source": [
    "# check to see if the features have been normalized\n",
    "print(normalized_df.shape)\n",
    "normalized_df.head()"
   ]
  }
 ],
 "metadata": {
  "kernelspec": {
   "display_name": "interstellar_data",
   "language": "python",
   "name": "python3"
  },
  "language_info": {
   "codemirror_mode": {
    "name": "ipython",
    "version": 3
   },
   "file_extension": ".py",
   "mimetype": "text/x-python",
   "name": "python",
   "nbconvert_exporter": "python",
   "pygments_lexer": "ipython3",
   "version": "3.8.15"
  },
  "orig_nbformat": 4
 },
 "nbformat": 4,
 "nbformat_minor": 2
}
