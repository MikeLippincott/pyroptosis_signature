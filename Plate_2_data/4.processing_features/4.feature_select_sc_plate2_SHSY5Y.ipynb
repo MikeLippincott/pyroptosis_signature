{
 "cells": [
  {
   "attachments": {},
   "cell_type": "markdown",
   "metadata": {},
   "source": [
    "# Perform feature selection on normalized data"
   ]
  },
  {
   "attachments": {},
   "cell_type": "markdown",
   "metadata": {},
   "source": [
    "## Import libraries"
   ]
  },
  {
   "cell_type": "code",
   "execution_count": 1,
   "metadata": {},
   "outputs": [],
   "source": [
    "import sys\n",
    "import pathlib\n",
    "import gc\n",
    "import pandas as pd\n",
    "\n",
    "from pycytominer import feature_select\n",
    "from pycytominer.cyto_utils import output"
   ]
  },
  {
   "attachments": {},
   "cell_type": "markdown",
   "metadata": {},
   "source": [
    "## Set paths and variables"
   ]
  },
  {
   "cell_type": "code",
   "execution_count": 2,
   "metadata": {},
   "outputs": [],
   "source": [
    "# directory where normalized parquet file is located\n",
    "data_dir = pathlib.Path(\"./data/normalized_data\")\n",
    "\n",
    "# directory where the feature selected parquet file is saved to\n",
    "output_dir = pathlib.Path(\"./data/feature_selected_data\")\n",
    "output_dir.mkdir(exist_ok=True)\n",
    "\n",
    "# define input path\n",
    "normalized_file_path = str(pathlib.Path(f\"{data_dir}/SHSY5Y_sc_norm.parquet\"))\n",
    "\n",
    "# define ouput path\n",
    "feature_select_output_file = str(pathlib.Path(f\"{output_dir}/SHSY5Y_sc_norm_fs.parquet\"))"
   ]
  },
  {
   "cell_type": "code",
   "execution_count": 3,
   "metadata": {},
   "outputs": [],
   "source": [
    "# process each run\n",
    "normalized_df = pd.read_parquet(normalized_file_path)"
   ]
  },
  {
   "cell_type": "code",
   "execution_count": 4,
   "metadata": {},
   "outputs": [
    {
     "data": {
      "text/plain": [
       "(600816, 2926)"
      ]
     },
     "execution_count": 4,
     "metadata": {},
     "output_type": "execute_result"
    }
   ],
   "source": [
    "normalized_df.shape"
   ]
  },
  {
   "attachments": {},
   "cell_type": "markdown",
   "metadata": {},
   "source": [
    "## Perform feature selection"
   ]
  },
  {
   "cell_type": "code",
   "execution_count": 5,
   "metadata": {},
   "outputs": [
    {
     "name": "stdout",
     "output_type": "stream",
     "text": [
      "Performing feature selection on normalized annotated merged single cells!\n",
      "Starting variance thresholding\n",
      "Finished variance thresholding\n",
      "Dropping NA Columns\n",
      "Finished dropping NA columns\n",
      "Finished\n"
     ]
    },
    {
     "data": {
      "text/plain": [
       "0"
      ]
     },
     "execution_count": 5,
     "metadata": {},
     "output_type": "execute_result"
    }
   ],
   "source": [
    "# list of operations for feature select function to use on input profile\n",
    "feature_select_ops = [\n",
    "    \"variance_threshold\",\n",
    "    \"blocklist\",\n",
    "    \"drop_na_columns\",\n",
    "]\n",
    "\n",
    "print(f\"Performing feature selection on normalized annotated merged single cells!\")\n",
    "\n",
    "# perform feature selection with the operations specified\n",
    "feature_select_df = feature_select(\n",
    "    normalized_df,\n",
    "    operation=feature_select_ops,\n",
    ")\n",
    "\n",
    "del normalized_df\n",
    "gc.collect()"
   ]
  },
  {
   "cell_type": "code",
   "execution_count": 6,
   "metadata": {},
   "outputs": [
    {
     "name": "stdout",
     "output_type": "stream",
     "text": [
      "(600816, 2339)\n"
     ]
    }
   ],
   "source": [
    "print(feature_select_df.shape)"
   ]
  },
  {
   "cell_type": "code",
   "execution_count": 7,
   "metadata": {},
   "outputs": [
    {
     "name": "stdout",
     "output_type": "stream",
     "text": [
      "(60078, 2339)\n"
     ]
    }
   ],
   "source": [
    "# Assuming 'well' is the column you want to stratify by\n",
    "feature_select_df = feature_select_df.groupby('Metadata_Well').apply(lambda x: x.sample(frac=0.1, random_state=0)).reset_index(drop=True)\n",
    "print(feature_select_df.shape)"
   ]
  },
  {
   "cell_type": "code",
   "execution_count": 8,
   "metadata": {},
   "outputs": [
    {
     "name": "stdout",
     "output_type": "stream",
     "text": [
      "Starting correlation thresholding\n",
      "Starting pairwise correlations\n",
      "Finished correlation calculations\n",
      "Finshed correlation computation - continuing to feature selection\n",
      "Finished correlation thresholding\n",
      "Finished\n",
      "(60078, 1249)\n"
     ]
    }
   ],
   "source": [
    "feature_select_ops = [\n",
    "    \"correlation_threshold\",\n",
    "]\n",
    "# perform feature selection with the operations specified\n",
    "feature_select_df = feature_select(\n",
    "    feature_select_df,\n",
    "    operation=feature_select_ops,\n",
    ")\n",
    "print(feature_select_df.shape)\n",
    "# get the column names of the feature selected dataframe\n",
    "feature_select_df_columns = feature_select_df.columns.tolist()"
   ]
  },
  {
   "cell_type": "code",
   "execution_count": 9,
   "metadata": {},
   "outputs": [
    {
     "name": "stdout",
     "output_type": "stream",
     "text": [
      "(600816, 1249)\n"
     ]
    }
   ],
   "source": [
    "# reload the normalized dataframe\n",
    "normalized_df = pd.read_parquet(normalized_file_path)\n",
    "# filter the normalized dataframe to only include the columns that were selected\n",
    "feature_select_df = normalized_df.reindex(columns=feature_select_df_columns)\n",
    "print(feature_select_df.shape)"
   ]
  },
  {
   "cell_type": "code",
   "execution_count": 10,
   "metadata": {},
   "outputs": [
    {
     "name": "stdout",
     "output_type": "stream",
     "text": [
      "Features have been selected for SHSY5Y cells and saved to SHSY5Y_sc_norm_fs.parquet!\n"
     ]
    }
   ],
   "source": [
    "# save features selected df as parquet file\n",
    "output(\n",
    "    df=feature_select_df,\n",
    "    output_filename=feature_select_output_file,\n",
    "    output_type=\"parquet\"\n",
    ")\n",
    "print(f\"Features have been selected for SHSY5Y cells and saved to {pathlib.Path(feature_select_output_file).name}!\")"
   ]
  },
  {
   "cell_type": "code",
   "execution_count": 11,
   "metadata": {},
   "outputs": [
    {
     "name": "stdout",
     "output_type": "stream",
     "text": [
      "(600816, 1249)\n"
     ]
    },
    {
     "data": {
      "text/html": [
       "<div>\n",
       "<style scoped>\n",
       "    .dataframe tbody tr th:only-of-type {\n",
       "        vertical-align: middle;\n",
       "    }\n",
       "\n",
       "    .dataframe tbody tr th {\n",
       "        vertical-align: top;\n",
       "    }\n",
       "\n",
       "    .dataframe thead th {\n",
       "        text-align: right;\n",
       "    }\n",
       "</style>\n",
       "<table border=\"1\" class=\"dataframe\">\n",
       "  <thead>\n",
       "    <tr style=\"text-align: right;\">\n",
       "      <th></th>\n",
       "      <th>Metadata_cell_type</th>\n",
       "      <th>Metadata_Well</th>\n",
       "      <th>Metadata_number_of_singlecells</th>\n",
       "      <th>Metadata_incubation inducer (h)</th>\n",
       "      <th>Metadata_inhibitor</th>\n",
       "      <th>Metadata_inhibitor_concentration</th>\n",
       "      <th>Metadata_inhibitor_concentration_unit</th>\n",
       "      <th>Metadata_inducer1</th>\n",
       "      <th>Metadata_inducer1_concentration</th>\n",
       "      <th>Metadata_inducer1_concentration_unit</th>\n",
       "      <th>...</th>\n",
       "      <th>Nuclei_Texture_InverseDifferenceMoment_CorrER_3_01_256</th>\n",
       "      <th>Nuclei_Texture_InverseDifferenceMoment_CorrER_3_02_256</th>\n",
       "      <th>Nuclei_Texture_InverseDifferenceMoment_CorrER_3_03_256</th>\n",
       "      <th>Nuclei_Texture_InverseDifferenceMoment_CorrMito_3_00_256</th>\n",
       "      <th>Nuclei_Texture_InverseDifferenceMoment_CorrPM_3_00_256</th>\n",
       "      <th>Nuclei_Texture_InverseDifferenceMoment_CorrPM_3_02_256</th>\n",
       "      <th>Nuclei_Texture_SumEntropy_CorrPM_3_03_256</th>\n",
       "      <th>Nuclei_Texture_SumVariance_CorrGasdermin_3_01_256</th>\n",
       "      <th>Nuclei_Texture_SumVariance_CorrMito_3_03_256</th>\n",
       "      <th>Nuclei_Texture_SumVariance_CorrPM_3_00_256</th>\n",
       "    </tr>\n",
       "  </thead>\n",
       "  <tbody>\n",
       "    <tr>\n",
       "      <th>0</th>\n",
       "      <td>SH-SY5Y</td>\n",
       "      <td>B13</td>\n",
       "      <td>3780</td>\n",
       "      <td>6</td>\n",
       "      <td>Media ctr</td>\n",
       "      <td>NaN</td>\n",
       "      <td>None</td>\n",
       "      <td>media ctr</td>\n",
       "      <td>None</td>\n",
       "      <td>None</td>\n",
       "      <td>...</td>\n",
       "      <td>-1.837110</td>\n",
       "      <td>-0.594605</td>\n",
       "      <td>-1.290898</td>\n",
       "      <td>-3.120176</td>\n",
       "      <td>-3.002434</td>\n",
       "      <td>-1.479849</td>\n",
       "      <td>1.993159</td>\n",
       "      <td>0.024644</td>\n",
       "      <td>0.307726</td>\n",
       "      <td>0.071916</td>\n",
       "    </tr>\n",
       "    <tr>\n",
       "      <th>1</th>\n",
       "      <td>SH-SY5Y</td>\n",
       "      <td>B13</td>\n",
       "      <td>3780</td>\n",
       "      <td>6</td>\n",
       "      <td>Media ctr</td>\n",
       "      <td>NaN</td>\n",
       "      <td>None</td>\n",
       "      <td>media ctr</td>\n",
       "      <td>None</td>\n",
       "      <td>None</td>\n",
       "      <td>...</td>\n",
       "      <td>-0.838109</td>\n",
       "      <td>-0.678986</td>\n",
       "      <td>-0.328452</td>\n",
       "      <td>-3.717218</td>\n",
       "      <td>-0.826658</td>\n",
       "      <td>-0.460672</td>\n",
       "      <td>0.843387</td>\n",
       "      <td>-0.041344</td>\n",
       "      <td>1.445562</td>\n",
       "      <td>0.014207</td>\n",
       "    </tr>\n",
       "    <tr>\n",
       "      <th>2</th>\n",
       "      <td>SH-SY5Y</td>\n",
       "      <td>B13</td>\n",
       "      <td>3780</td>\n",
       "      <td>6</td>\n",
       "      <td>Media ctr</td>\n",
       "      <td>NaN</td>\n",
       "      <td>None</td>\n",
       "      <td>media ctr</td>\n",
       "      <td>None</td>\n",
       "      <td>None</td>\n",
       "      <td>...</td>\n",
       "      <td>0.501930</td>\n",
       "      <td>-0.226678</td>\n",
       "      <td>-1.250159</td>\n",
       "      <td>-0.689588</td>\n",
       "      <td>-1.373834</td>\n",
       "      <td>-1.336068</td>\n",
       "      <td>0.632187</td>\n",
       "      <td>-0.044580</td>\n",
       "      <td>-0.020781</td>\n",
       "      <td>0.015121</td>\n",
       "    </tr>\n",
       "    <tr>\n",
       "      <th>3</th>\n",
       "      <td>SH-SY5Y</td>\n",
       "      <td>B13</td>\n",
       "      <td>3780</td>\n",
       "      <td>6</td>\n",
       "      <td>Media ctr</td>\n",
       "      <td>NaN</td>\n",
       "      <td>None</td>\n",
       "      <td>media ctr</td>\n",
       "      <td>None</td>\n",
       "      <td>None</td>\n",
       "      <td>...</td>\n",
       "      <td>0.613212</td>\n",
       "      <td>1.059709</td>\n",
       "      <td>0.802273</td>\n",
       "      <td>-0.485147</td>\n",
       "      <td>0.050987</td>\n",
       "      <td>-0.200275</td>\n",
       "      <td>0.468929</td>\n",
       "      <td>-0.060804</td>\n",
       "      <td>-0.070032</td>\n",
       "      <td>-0.031396</td>\n",
       "    </tr>\n",
       "    <tr>\n",
       "      <th>4</th>\n",
       "      <td>SH-SY5Y</td>\n",
       "      <td>B13</td>\n",
       "      <td>3780</td>\n",
       "      <td>6</td>\n",
       "      <td>Media ctr</td>\n",
       "      <td>NaN</td>\n",
       "      <td>None</td>\n",
       "      <td>media ctr</td>\n",
       "      <td>None</td>\n",
       "      <td>None</td>\n",
       "      <td>...</td>\n",
       "      <td>0.189899</td>\n",
       "      <td>-0.535990</td>\n",
       "      <td>-0.798744</td>\n",
       "      <td>-0.505780</td>\n",
       "      <td>0.419497</td>\n",
       "      <td>-0.052682</td>\n",
       "      <td>-0.632097</td>\n",
       "      <td>-0.052590</td>\n",
       "      <td>0.005790</td>\n",
       "      <td>-0.058913</td>\n",
       "    </tr>\n",
       "  </tbody>\n",
       "</table>\n",
       "<p>5 rows × 1249 columns</p>\n",
       "</div>"
      ],
      "text/plain": [
       "  Metadata_cell_type Metadata_Well  Metadata_number_of_singlecells  \\\n",
       "0            SH-SY5Y           B13                            3780   \n",
       "1            SH-SY5Y           B13                            3780   \n",
       "2            SH-SY5Y           B13                            3780   \n",
       "3            SH-SY5Y           B13                            3780   \n",
       "4            SH-SY5Y           B13                            3780   \n",
       "\n",
       "   Metadata_incubation inducer (h) Metadata_inhibitor  \\\n",
       "0                                6          Media ctr   \n",
       "1                                6          Media ctr   \n",
       "2                                6          Media ctr   \n",
       "3                                6          Media ctr   \n",
       "4                                6          Media ctr   \n",
       "\n",
       "   Metadata_inhibitor_concentration Metadata_inhibitor_concentration_unit  \\\n",
       "0                               NaN                                  None   \n",
       "1                               NaN                                  None   \n",
       "2                               NaN                                  None   \n",
       "3                               NaN                                  None   \n",
       "4                               NaN                                  None   \n",
       "\n",
       "  Metadata_inducer1 Metadata_inducer1_concentration  \\\n",
       "0         media ctr                            None   \n",
       "1         media ctr                            None   \n",
       "2         media ctr                            None   \n",
       "3         media ctr                            None   \n",
       "4         media ctr                            None   \n",
       "\n",
       "  Metadata_inducer1_concentration_unit  ...  \\\n",
       "0                                 None  ...   \n",
       "1                                 None  ...   \n",
       "2                                 None  ...   \n",
       "3                                 None  ...   \n",
       "4                                 None  ...   \n",
       "\n",
       "  Nuclei_Texture_InverseDifferenceMoment_CorrER_3_01_256  \\\n",
       "0                                          -1.837110       \n",
       "1                                          -0.838109       \n",
       "2                                           0.501930       \n",
       "3                                           0.613212       \n",
       "4                                           0.189899       \n",
       "\n",
       "   Nuclei_Texture_InverseDifferenceMoment_CorrER_3_02_256  \\\n",
       "0                                          -0.594605        \n",
       "1                                          -0.678986        \n",
       "2                                          -0.226678        \n",
       "3                                           1.059709        \n",
       "4                                          -0.535990        \n",
       "\n",
       "  Nuclei_Texture_InverseDifferenceMoment_CorrER_3_03_256  \\\n",
       "0                                          -1.290898       \n",
       "1                                          -0.328452       \n",
       "2                                          -1.250159       \n",
       "3                                           0.802273       \n",
       "4                                          -0.798744       \n",
       "\n",
       "   Nuclei_Texture_InverseDifferenceMoment_CorrMito_3_00_256  \\\n",
       "0                                          -3.120176          \n",
       "1                                          -3.717218          \n",
       "2                                          -0.689588          \n",
       "3                                          -0.485147          \n",
       "4                                          -0.505780          \n",
       "\n",
       "  Nuclei_Texture_InverseDifferenceMoment_CorrPM_3_00_256  \\\n",
       "0                                          -3.002434       \n",
       "1                                          -0.826658       \n",
       "2                                          -1.373834       \n",
       "3                                           0.050987       \n",
       "4                                           0.419497       \n",
       "\n",
       "   Nuclei_Texture_InverseDifferenceMoment_CorrPM_3_02_256  \\\n",
       "0                                          -1.479849        \n",
       "1                                          -0.460672        \n",
       "2                                          -1.336068        \n",
       "3                                          -0.200275        \n",
       "4                                          -0.052682        \n",
       "\n",
       "   Nuclei_Texture_SumEntropy_CorrPM_3_03_256  \\\n",
       "0                                   1.993159   \n",
       "1                                   0.843387   \n",
       "2                                   0.632187   \n",
       "3                                   0.468929   \n",
       "4                                  -0.632097   \n",
       "\n",
       "   Nuclei_Texture_SumVariance_CorrGasdermin_3_01_256  \\\n",
       "0                                           0.024644   \n",
       "1                                          -0.041344   \n",
       "2                                          -0.044580   \n",
       "3                                          -0.060804   \n",
       "4                                          -0.052590   \n",
       "\n",
       "   Nuclei_Texture_SumVariance_CorrMito_3_03_256  \\\n",
       "0                                      0.307726   \n",
       "1                                      1.445562   \n",
       "2                                     -0.020781   \n",
       "3                                     -0.070032   \n",
       "4                                      0.005790   \n",
       "\n",
       "   Nuclei_Texture_SumVariance_CorrPM_3_00_256  \n",
       "0                                    0.071916  \n",
       "1                                    0.014207  \n",
       "2                                    0.015121  \n",
       "3                                   -0.031396  \n",
       "4                                   -0.058913  \n",
       "\n",
       "[5 rows x 1249 columns]"
      ]
     },
     "execution_count": 11,
     "metadata": {},
     "output_type": "execute_result"
    }
   ],
   "source": [
    "# check to see if the shape of the df has changed indicating feature selection occurred\n",
    "print(feature_select_df.shape)\n",
    "feature_select_df.head()"
   ]
  },
  {
   "cell_type": "code",
   "execution_count": 12,
   "metadata": {},
   "outputs": [
    {
     "name": "stdout",
     "output_type": "stream",
     "text": [
      "19\n",
      "1230\n",
      "2907\n"
     ]
    }
   ],
   "source": [
    "# seperate the metadata and profile data\n",
    "metadata_cols = feature_select_df.columns[feature_select_df.columns.str.contains(\"Metadata\")]\n",
    "profile_cols = feature_select_df.columns[~feature_select_df.columns.str.contains(\"Metadata\")]\n",
    "print(len(metadata_cols))\n",
    "print(len(profile_cols))\n",
    "print(len(normalized_df.columns)-len(metadata_cols))"
   ]
  }
 ],
 "metadata": {
  "kernelspec": {
   "display_name": "interstellar_data",
   "language": "python",
   "name": "python3"
  },
  "language_info": {
   "codemirror_mode": {
    "name": "ipython",
    "version": 3
   },
   "file_extension": ".py",
   "mimetype": "text/x-python",
   "name": "python",
   "nbconvert_exporter": "python",
   "pygments_lexer": "ipython3",
   "version": "3.8.15"
  },
  "orig_nbformat": 4
 },
 "nbformat": 4,
 "nbformat_minor": 2
}
