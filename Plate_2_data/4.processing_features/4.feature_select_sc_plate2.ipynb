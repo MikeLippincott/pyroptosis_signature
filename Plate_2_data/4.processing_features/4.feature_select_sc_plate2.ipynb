{
 "cells": [
  {
   "attachments": {},
   "cell_type": "markdown",
   "metadata": {},
   "source": [
    "# Perform feature selection on normalized data"
   ]
  },
  {
   "attachments": {},
   "cell_type": "markdown",
   "metadata": {},
   "source": [
    "## Import libraries"
   ]
  },
  {
   "cell_type": "code",
   "execution_count": 1,
   "metadata": {},
   "outputs": [],
   "source": [
    "import sys\n",
    "import pathlib\n",
    "import gc\n",
    "import pandas as pd\n",
    "\n",
    "from pycytominer import feature_select\n",
    "from pycytominer.cyto_utils import output"
   ]
  },
  {
   "attachments": {},
   "cell_type": "markdown",
   "metadata": {},
   "source": [
    "## Set paths and variables"
   ]
  },
  {
   "cell_type": "code",
   "execution_count": 2,
   "metadata": {},
   "outputs": [],
   "source": [
    "# directory where normalized parquet file is located\n",
    "data_dir = pathlib.Path(\"./data/normalized_data\")\n",
    "\n",
    "# directory where the feature selected parquet file is saved to\n",
    "output_dir = pathlib.Path(\"./data/feature_selected_data\")\n",
    "output_dir.mkdir(exist_ok=True)\n",
    "\n",
    "# define input path\n",
    "normalized_file_path = str(pathlib.Path(f\"{data_dir}/PBMC_sc_norm.parquet\"))\n",
    "\n",
    "# define ouput path\n",
    "feature_select_output_file = str(pathlib.Path(f\"{output_dir}/PBMC_sc_norm_fs.parquet\"))"
   ]
  },
  {
   "cell_type": "code",
   "execution_count": 3,
   "metadata": {},
   "outputs": [],
   "source": [
    "# process each run\n",
    "normalized_df = pd.read_parquet(normalized_file_path)"
   ]
  },
  {
   "cell_type": "code",
   "execution_count": 4,
   "metadata": {},
   "outputs": [
    {
     "data": {
      "text/plain": [
       "(8318751, 2926)"
      ]
     },
     "execution_count": 4,
     "metadata": {},
     "output_type": "execute_result"
    }
   ],
   "source": [
    "normalized_df.shape"
   ]
  },
  {
   "attachments": {},
   "cell_type": "markdown",
   "metadata": {},
   "source": [
    "## Perform feature selection"
   ]
  },
  {
   "cell_type": "code",
   "execution_count": 5,
   "metadata": {},
   "outputs": [
    {
     "name": "stdout",
     "output_type": "stream",
     "text": [
      "Performing feature selection on normalized annotated merged single cells!\n",
      "Starting variance thresholding\n",
      "Finished variance thresholding\n",
      "Dropping NA Columns\n",
      "Finished dropping NA columns\n",
      "Finished\n"
     ]
    },
    {
     "data": {
      "text/plain": [
       "0"
      ]
     },
     "execution_count": 5,
     "metadata": {},
     "output_type": "execute_result"
    }
   ],
   "source": [
    "# list of operations for feature select function to use on input profile\n",
    "feature_select_ops = [\n",
    "    \"variance_threshold\",\n",
    "    \"blocklist\",\n",
    "    \"drop_na_columns\",\n",
    "]\n",
    "\n",
    "print(f\"Performing feature selection on normalized annotated merged single cells!\")\n",
    "\n",
    "# perform feature selection with the operations specified\n",
    "feature_select_df = feature_select(\n",
    "    normalized_df,\n",
    "    operation=feature_select_ops,\n",
    ")\n",
    "\n",
    "del normalized_df\n",
    "gc.collect()"
   ]
  },
  {
   "cell_type": "code",
   "execution_count": 6,
   "metadata": {},
   "outputs": [
    {
     "name": "stdout",
     "output_type": "stream",
     "text": [
      "(8318751, 2164)\n"
     ]
    }
   ],
   "source": [
    "print(feature_select_df.shape)"
   ]
  },
  {
   "cell_type": "code",
   "execution_count": 7,
   "metadata": {},
   "outputs": [
    {
     "name": "stdout",
     "output_type": "stream",
     "text": [
      "(83191, 2164)\n"
     ]
    }
   ],
   "source": [
    "# Assuming 'well' is the column you want to stratify by\n",
    "feature_select_df = feature_select_df.groupby('Metadata_Well').apply(lambda x: x.sample(frac=0.01, random_state=0)).reset_index(drop=True)\n",
    "print(feature_select_df.shape)"
   ]
  },
  {
   "cell_type": "code",
   "execution_count": 8,
   "metadata": {},
   "outputs": [
    {
     "name": "stdout",
     "output_type": "stream",
     "text": [
      "Starting correlation thresholding\n",
      "Starting pairwise correlations\n",
      "Finished correlation calculations\n",
      "Finshed correlation computation - continuing to feature selection\n",
      "Finished correlation thresholding\n",
      "Finished\n",
      "(83191, 1216)\n"
     ]
    }
   ],
   "source": [
    "feature_select_ops = [\n",
    "    \"correlation_threshold\",\n",
    "]\n",
    "# perform feature selection with the operations specified\n",
    "feature_select_df = feature_select(\n",
    "    feature_select_df,\n",
    "    operation=feature_select_ops,\n",
    ")\n",
    "print(feature_select_df.shape)\n",
    "# get the column names of the feature selected dataframe\n",
    "feature_select_df_columns = feature_select_df.columns.tolist()"
   ]
  },
  {
   "cell_type": "code",
   "execution_count": 12,
   "metadata": {},
   "outputs": [
    {
     "name": "stdout",
     "output_type": "stream",
     "text": [
      "(8318751, 1216)\n"
     ]
    }
   ],
   "source": [
    "# reload the normalized dataframe\n",
    "normalized_df = pd.read_parquet(normalized_file_path)\n",
    "# filter the normalized dataframe to only include the columns that were selected\n",
    "feature_select_df = normalized_df.reindex(columns=feature_select_df_columns)\n",
    "print(feature_select_df.shape)"
   ]
  },
  {
   "cell_type": "code",
   "execution_count": 13,
   "metadata": {},
   "outputs": [
    {
     "name": "stdout",
     "output_type": "stream",
     "text": [
      "Features have been selected for PBMC cells and saved to PBMC_sc_norm_fs.parquet!\n"
     ]
    }
   ],
   "source": [
    "# save features selected df as parquet file\n",
    "output(\n",
    "    df=feature_select_df,\n",
    "    output_filename=feature_select_output_file,\n",
    "    output_type=\"parquet\"\n",
    ")\n",
    "print(f\"Features have been selected for PBMC cells and saved to {pathlib.Path(feature_select_output_file).name}!\")"
   ]
  },
  {
   "cell_type": "code",
   "execution_count": 14,
   "metadata": {},
   "outputs": [
    {
     "name": "stdout",
     "output_type": "stream",
     "text": [
      "(8318751, 1216)\n"
     ]
    },
    {
     "data": {
      "text/html": [
       "<div>\n",
       "<style scoped>\n",
       "    .dataframe tbody tr th:only-of-type {\n",
       "        vertical-align: middle;\n",
       "    }\n",
       "\n",
       "    .dataframe tbody tr th {\n",
       "        vertical-align: top;\n",
       "    }\n",
       "\n",
       "    .dataframe thead th {\n",
       "        text-align: right;\n",
       "    }\n",
       "</style>\n",
       "<table border=\"1\" class=\"dataframe\">\n",
       "  <thead>\n",
       "    <tr style=\"text-align: right;\">\n",
       "      <th></th>\n",
       "      <th>Metadata_cell_type</th>\n",
       "      <th>Metadata_Well</th>\n",
       "      <th>Metadata_number_of_singlecells</th>\n",
       "      <th>Metadata_incubation inducer (h)</th>\n",
       "      <th>Metadata_inhibitor</th>\n",
       "      <th>Metadata_inhibitor_concentration</th>\n",
       "      <th>Metadata_inhibitor_concentration_unit</th>\n",
       "      <th>Metadata_inducer1</th>\n",
       "      <th>Metadata_inducer1_concentration</th>\n",
       "      <th>Metadata_inducer1_concentration_unit</th>\n",
       "      <th>...</th>\n",
       "      <th>Nuclei_Texture_InverseDifferenceMoment_CorrER_3_01_256</th>\n",
       "      <th>Nuclei_Texture_InverseDifferenceMoment_CorrER_3_03_256</th>\n",
       "      <th>Nuclei_Texture_InverseDifferenceMoment_CorrMito_3_02_256</th>\n",
       "      <th>Nuclei_Texture_InverseDifferenceMoment_CorrPM_3_00_256</th>\n",
       "      <th>Nuclei_Texture_InverseDifferenceMoment_CorrPM_3_01_256</th>\n",
       "      <th>Nuclei_Texture_InverseDifferenceMoment_CorrPM_3_02_256</th>\n",
       "      <th>Nuclei_Texture_InverseDifferenceMoment_CorrPM_3_03_256</th>\n",
       "      <th>Nuclei_Texture_SumEntropy_CorrPM_3_01_256</th>\n",
       "      <th>Nuclei_Texture_SumVariance_CorrPM_3_01_256</th>\n",
       "      <th>Nuclei_Texture_Variance_CorrER_3_00_256</th>\n",
       "    </tr>\n",
       "  </thead>\n",
       "  <tbody>\n",
       "    <tr>\n",
       "      <th>0</th>\n",
       "      <td>PBMC</td>\n",
       "      <td>B02</td>\n",
       "      <td>47666</td>\n",
       "      <td>6</td>\n",
       "      <td>DMSO</td>\n",
       "      <td>0.025</td>\n",
       "      <td>%</td>\n",
       "      <td>LPS</td>\n",
       "      <td>0.010</td>\n",
       "      <td>µg/ml</td>\n",
       "      <td>...</td>\n",
       "      <td>1.148187</td>\n",
       "      <td>1.069975</td>\n",
       "      <td>0.368181</td>\n",
       "      <td>-0.117756</td>\n",
       "      <td>0.458260</td>\n",
       "      <td>0.020577</td>\n",
       "      <td>-0.361602</td>\n",
       "      <td>0.417090</td>\n",
       "      <td>-0.027274</td>\n",
       "      <td>-0.186865</td>\n",
       "    </tr>\n",
       "    <tr>\n",
       "      <th>1</th>\n",
       "      <td>PBMC</td>\n",
       "      <td>B02</td>\n",
       "      <td>47666</td>\n",
       "      <td>6</td>\n",
       "      <td>DMSO</td>\n",
       "      <td>0.025</td>\n",
       "      <td>%</td>\n",
       "      <td>LPS</td>\n",
       "      <td>0.010</td>\n",
       "      <td>µg/ml</td>\n",
       "      <td>...</td>\n",
       "      <td>0.795113</td>\n",
       "      <td>0.661260</td>\n",
       "      <td>-0.008886</td>\n",
       "      <td>0.727637</td>\n",
       "      <td>0.590452</td>\n",
       "      <td>0.383109</td>\n",
       "      <td>0.599520</td>\n",
       "      <td>-0.560967</td>\n",
       "      <td>-0.141698</td>\n",
       "      <td>-0.178472</td>\n",
       "    </tr>\n",
       "    <tr>\n",
       "      <th>2</th>\n",
       "      <td>PBMC</td>\n",
       "      <td>B02</td>\n",
       "      <td>47666</td>\n",
       "      <td>6</td>\n",
       "      <td>DMSO</td>\n",
       "      <td>0.025</td>\n",
       "      <td>%</td>\n",
       "      <td>LPS</td>\n",
       "      <td>0.010</td>\n",
       "      <td>µg/ml</td>\n",
       "      <td>...</td>\n",
       "      <td>0.621216</td>\n",
       "      <td>-0.102527</td>\n",
       "      <td>1.048180</td>\n",
       "      <td>0.535328</td>\n",
       "      <td>0.446772</td>\n",
       "      <td>0.625449</td>\n",
       "      <td>0.430404</td>\n",
       "      <td>-0.842064</td>\n",
       "      <td>-0.147543</td>\n",
       "      <td>-0.136735</td>\n",
       "    </tr>\n",
       "    <tr>\n",
       "      <th>3</th>\n",
       "      <td>PBMC</td>\n",
       "      <td>B02</td>\n",
       "      <td>47666</td>\n",
       "      <td>6</td>\n",
       "      <td>DMSO</td>\n",
       "      <td>0.025</td>\n",
       "      <td>%</td>\n",
       "      <td>LPS</td>\n",
       "      <td>0.010</td>\n",
       "      <td>µg/ml</td>\n",
       "      <td>...</td>\n",
       "      <td>-1.157840</td>\n",
       "      <td>-1.593708</td>\n",
       "      <td>0.252187</td>\n",
       "      <td>-3.017132</td>\n",
       "      <td>-1.380525</td>\n",
       "      <td>-1.310792</td>\n",
       "      <td>-3.024079</td>\n",
       "      <td>2.345765</td>\n",
       "      <td>0.802267</td>\n",
       "      <td>0.391562</td>\n",
       "    </tr>\n",
       "    <tr>\n",
       "      <th>4</th>\n",
       "      <td>PBMC</td>\n",
       "      <td>B02</td>\n",
       "      <td>47666</td>\n",
       "      <td>6</td>\n",
       "      <td>DMSO</td>\n",
       "      <td>0.025</td>\n",
       "      <td>%</td>\n",
       "      <td>LPS</td>\n",
       "      <td>0.010</td>\n",
       "      <td>µg/ml</td>\n",
       "      <td>...</td>\n",
       "      <td>-0.407971</td>\n",
       "      <td>-1.085826</td>\n",
       "      <td>-0.680803</td>\n",
       "      <td>-0.325516</td>\n",
       "      <td>-0.021550</td>\n",
       "      <td>-0.227969</td>\n",
       "      <td>-0.044750</td>\n",
       "      <td>-0.210408</td>\n",
       "      <td>-0.129130</td>\n",
       "      <td>-0.083951</td>\n",
       "    </tr>\n",
       "  </tbody>\n",
       "</table>\n",
       "<p>5 rows × 1216 columns</p>\n",
       "</div>"
      ],
      "text/plain": [
       "  Metadata_cell_type Metadata_Well  Metadata_number_of_singlecells  \\\n",
       "0               PBMC           B02                           47666   \n",
       "1               PBMC           B02                           47666   \n",
       "2               PBMC           B02                           47666   \n",
       "3               PBMC           B02                           47666   \n",
       "4               PBMC           B02                           47666   \n",
       "\n",
       "   Metadata_incubation inducer (h) Metadata_inhibitor  \\\n",
       "0                                6               DMSO   \n",
       "1                                6               DMSO   \n",
       "2                                6               DMSO   \n",
       "3                                6               DMSO   \n",
       "4                                6               DMSO   \n",
       "\n",
       "   Metadata_inhibitor_concentration Metadata_inhibitor_concentration_unit  \\\n",
       "0                             0.025                                     %   \n",
       "1                             0.025                                     %   \n",
       "2                             0.025                                     %   \n",
       "3                             0.025                                     %   \n",
       "4                             0.025                                     %   \n",
       "\n",
       "  Metadata_inducer1 Metadata_inducer1_concentration  \\\n",
       "0               LPS                           0.010   \n",
       "1               LPS                           0.010   \n",
       "2               LPS                           0.010   \n",
       "3               LPS                           0.010   \n",
       "4               LPS                           0.010   \n",
       "\n",
       "  Metadata_inducer1_concentration_unit  ...  \\\n",
       "0                                µg/ml  ...   \n",
       "1                                µg/ml  ...   \n",
       "2                                µg/ml  ...   \n",
       "3                                µg/ml  ...   \n",
       "4                                µg/ml  ...   \n",
       "\n",
       "  Nuclei_Texture_InverseDifferenceMoment_CorrER_3_01_256  \\\n",
       "0                                           1.148187       \n",
       "1                                           0.795113       \n",
       "2                                           0.621216       \n",
       "3                                          -1.157840       \n",
       "4                                          -0.407971       \n",
       "\n",
       "   Nuclei_Texture_InverseDifferenceMoment_CorrER_3_03_256  \\\n",
       "0                                           1.069975        \n",
       "1                                           0.661260        \n",
       "2                                          -0.102527        \n",
       "3                                          -1.593708        \n",
       "4                                          -1.085826        \n",
       "\n",
       "  Nuclei_Texture_InverseDifferenceMoment_CorrMito_3_02_256  \\\n",
       "0                                           0.368181         \n",
       "1                                          -0.008886         \n",
       "2                                           1.048180         \n",
       "3                                           0.252187         \n",
       "4                                          -0.680803         \n",
       "\n",
       "   Nuclei_Texture_InverseDifferenceMoment_CorrPM_3_00_256  \\\n",
       "0                                          -0.117756        \n",
       "1                                           0.727637        \n",
       "2                                           0.535328        \n",
       "3                                          -3.017132        \n",
       "4                                          -0.325516        \n",
       "\n",
       "  Nuclei_Texture_InverseDifferenceMoment_CorrPM_3_01_256  \\\n",
       "0                                           0.458260       \n",
       "1                                           0.590452       \n",
       "2                                           0.446772       \n",
       "3                                          -1.380525       \n",
       "4                                          -0.021550       \n",
       "\n",
       "   Nuclei_Texture_InverseDifferenceMoment_CorrPM_3_02_256  \\\n",
       "0                                           0.020577        \n",
       "1                                           0.383109        \n",
       "2                                           0.625449        \n",
       "3                                          -1.310792        \n",
       "4                                          -0.227969        \n",
       "\n",
       "   Nuclei_Texture_InverseDifferenceMoment_CorrPM_3_03_256  \\\n",
       "0                                          -0.361602        \n",
       "1                                           0.599520        \n",
       "2                                           0.430404        \n",
       "3                                          -3.024079        \n",
       "4                                          -0.044750        \n",
       "\n",
       "   Nuclei_Texture_SumEntropy_CorrPM_3_01_256  \\\n",
       "0                                   0.417090   \n",
       "1                                  -0.560967   \n",
       "2                                  -0.842064   \n",
       "3                                   2.345765   \n",
       "4                                  -0.210408   \n",
       "\n",
       "   Nuclei_Texture_SumVariance_CorrPM_3_01_256  \\\n",
       "0                                   -0.027274   \n",
       "1                                   -0.141698   \n",
       "2                                   -0.147543   \n",
       "3                                    0.802267   \n",
       "4                                   -0.129130   \n",
       "\n",
       "   Nuclei_Texture_Variance_CorrER_3_00_256  \n",
       "0                                -0.186865  \n",
       "1                                -0.178472  \n",
       "2                                -0.136735  \n",
       "3                                 0.391562  \n",
       "4                                -0.083951  \n",
       "\n",
       "[5 rows x 1216 columns]"
      ]
     },
     "execution_count": 14,
     "metadata": {},
     "output_type": "execute_result"
    }
   ],
   "source": [
    "# check to see if the shape of the df has changed indicating feature selection occurred\n",
    "print(feature_select_df.shape)\n",
    "feature_select_df.head()"
   ]
  },
  {
   "cell_type": "code",
   "execution_count": 18,
   "metadata": {},
   "outputs": [
    {
     "name": "stdout",
     "output_type": "stream",
     "text": [
      "19\n",
      "1197\n",
      "2907\n"
     ]
    }
   ],
   "source": [
    "# seperate the metadata and profile data\n",
    "metadata_cols = feature_select_df.columns[feature_select_df.columns.str.contains(\"Metadata\")]\n",
    "profile_cols = feature_select_df.columns[~feature_select_df.columns.str.contains(\"Metadata\")]\n",
    "print(len(metadata_cols))\n",
    "print(len(profile_cols))\n",
    "print(len(normalized_df.columns)-len(metadata_cols))"
   ]
  }
 ],
 "metadata": {
  "kernelspec": {
   "display_name": "interstellar_data",
   "language": "python",
   "name": "python3"
  },
  "language_info": {
   "codemirror_mode": {
    "name": "ipython",
    "version": 3
   },
   "file_extension": ".py",
   "mimetype": "text/x-python",
   "name": "python",
   "nbconvert_exporter": "python",
   "pygments_lexer": "ipython3",
   "version": "3.8.15"
  },
  "orig_nbformat": 4
 },
 "nbformat": 4,
 "nbformat_minor": 2
}
