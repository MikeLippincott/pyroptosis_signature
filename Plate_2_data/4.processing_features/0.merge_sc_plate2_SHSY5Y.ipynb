{
 "cells": [
  {
   "attachments": {},
   "cell_type": "markdown",
   "metadata": {},
   "source": [
    "# Merge single cells from CellProfiler outputs using CytoTable"
   ]
  },
  {
   "cell_type": "code",
   "execution_count": 1,
   "metadata": {},
   "outputs": [],
   "source": [
    "import sys\n",
    "import pathlib\n",
    "\n",
    "from cytotable import convert, presets\n",
    "\n",
    "sys.path.append(\"../../utils\")\n",
    "import sc_extraction_utils as sc_utils\n",
    "from parsl.config import Config\n",
    "from parsl.executors import HighThroughputExecutor"
   ]
  },
  {
   "attachments": {},
   "cell_type": "markdown",
   "metadata": {},
   "source": [
    "## Set paths and variables\n",
    "\n",
    "All paths must be string but we use pathlib to show which variables are paths"
   ]
  },
  {
   "cell_type": "code",
   "execution_count": 2,
   "metadata": {},
   "outputs": [],
   "source": [
    "# type of file output from CytoTable (currently only parquet)\n",
    "dest_datatype = \"parquet\"\n",
    "\n",
    "\n",
    "# directory where parquet files are saved to\n",
    "output_dir = pathlib.Path(\"./data/converted_data\")\n",
    "output_dir.mkdir(exist_ok=True, parents=True)"
   ]
  },
  {
   "cell_type": "code",
   "execution_count": 3,
   "metadata": {},
   "outputs": [],
   "source": [
    "# preset configurations based on typical CellProfiler outputs\n",
    "preset = \"cellprofiler_sqlite_pycytominer\"\n",
    "# remove Image_Metadata_Plate from SELECT as this metadata was not extracted from file names\n",
    "# add Image_Metadata_Site as this is an important metadata when finding where single cells are located\n",
    "presets.config[\"cellprofiler_sqlite_pycytominer\"][\n",
    "    \"CONFIG_JOINS\"\n",
    "    # create filtered list of image features to be extracted and used for merging tables\n",
    "    # with the list of image features, this will merge the objects together using the image number,\n",
    "    # and parent objects to create all single cells (all objects associated to one cell)\n",
    "] = \"\"\"WITH Per_Image_Filtered AS (\n",
    "                SELECT\n",
    "                    Metadata_ImageNumber,\n",
    "                    Image_Metadata_Plate,\n",
    "                    Image_Metadata_Well,\n",
    "                    Image_Metadata_Site\n",
    "                FROM\n",
    "                    read_parquet('per_image.parquet')\n",
    "                )\n",
    "            SELECT\n",
    "                *\n",
    "            FROM\n",
    "                Per_Image_Filtered AS per_image\n",
    "            LEFT JOIN read_parquet('per_cytoplasm.parquet') AS per_cytoplasm ON\n",
    "                per_cytoplasm.Metadata_ImageNumber = per_image.Metadata_ImageNumber\n",
    "            LEFT JOIN read_parquet('per_cells.parquet') AS per_cells ON\n",
    "                per_cells.Metadata_ImageNumber = per_cytoplasm.Metadata_ImageNumber\n",
    "                AND per_cells.Metadata_Cells_Number_Object_Number = per_cytoplasm.Metadata_Cytoplasm_Parent_Cells\n",
    "            LEFT JOIN read_parquet('per_nuclei.parquet') AS per_nuclei ON\n",
    "                per_nuclei.Metadata_ImageNumber = per_cytoplasm.Metadata_ImageNumber\n",
    "                AND per_nuclei.Metadata_Nuclei_Number_Object_Number = per_cytoplasm.Metadata_Cytoplasm_Parent_Nuclei\n",
    "                \"\"\"\n"
   ]
  },
  {
   "cell_type": "code",
   "execution_count": 4,
   "metadata": {},
   "outputs": [],
   "source": [
    "# set directory for sqlite files\n",
    "sqlite_dir = pathlib.Path(\n",
    "    \"/home/lippincm/Desktop/18T/interstellar_data/SHSY5Y_SQLite_Outputs/\"\n",
    ").resolve(strict=True)\n",
    "\n",
    "# dictionary with info for the sqlite file from each run\n",
    "sqlite_info_dictionary = {\n",
    "    \"batch_1\": {\n",
    "        # path to outputted SQLite file\n",
    "        \"source_path\": str(\n",
    "            pathlib.Path(\n",
    "                f\"{sqlite_dir}/SHSY5Y_cells_incomplete_first_run.sqlite\"\n",
    "            )\n",
    "        ),\n",
    "        \"dest_path\": str(pathlib.Path(f\"{output_dir}/SHSY5Y_batch_1.parquet\")),\n",
    "    },\n",
    "    \"batch_2\": {\n",
    "        # path to outputted SQLite file\n",
    "        \"source_path\": str(\n",
    "            pathlib.Path(\n",
    "                f\"{sqlite_dir}/SHSY5Y_cells_second_run.sqlite\"\n",
    "            )\n",
    "        ),\n",
    "        \"dest_path\": str(pathlib.Path(f\"{output_dir}/SHSY5Y_batch_2.parquet\")),\n",
    "    },\n",
    "}"
   ]
  },
  {
   "attachments": {},
   "cell_type": "markdown",
   "metadata": {},
   "source": [
    "## Convert SQLite file and merge single cells into parquet file\n",
    "\n",
    "This was not run to completion as we use the nbconverted python file for full run."
   ]
  },
  {
   "cell_type": "code",
   "execution_count": 5,
   "metadata": {},
   "outputs": [
    {
     "name": "stdout",
     "output_type": "stream",
     "text": [
      "Performing merge single cells and conversion on batch_1!\n",
      "Merged and converted SHSY5Y_batch_1.parquet!\n"
     ]
    },
    {
     "name": "stderr",
     "output_type": "stream",
     "text": [
      "Reusing previously loaded Parsl configuration.\n"
     ]
    },
    {
     "name": "stdout",
     "output_type": "stream",
     "text": [
      "Added single cell count as metadata to SHSY5Y_batch_1.parquet!\n",
      "Performing merge single cells and conversion on batch_2!\n",
      "Merged and converted SHSY5Y_batch_2.parquet!\n",
      "Added single cell count as metadata to SHSY5Y_batch_2.parquet!\n"
     ]
    }
   ],
   "source": [
    "# run through each run with each set of paths based on dictionary\n",
    "for sqlite_file, info in sqlite_info_dictionary.items():\n",
    "    source_path = info[\"source_path\"]\n",
    "    dest_path = info[\"dest_path\"]\n",
    "    print(f\"Performing merge single cells and conversion on {sqlite_file}!\")\n",
    "\n",
    "    # merge single cells and output as parquet file\n",
    "    convert(\n",
    "        source_path=source_path,\n",
    "        dest_path=dest_path,\n",
    "        dest_datatype=dest_datatype,\n",
    "        preset=preset,\n",
    "        parsl_config=Config(\n",
    "            executors=[HighThroughputExecutor()],\n",
    "        ),\n",
    "        chunk_size=10000,\n",
    "    )\n",
    "    print(f\"Merged and converted {pathlib.Path(dest_path).name}!\")\n",
    "\n",
    "    # add single cell count per well as metadata column to parquet file and save back to same path\n",
    "    sc_utils.add_sc_count_metadata_file(\n",
    "        data_path=dest_path, well_column_name=\"Image_Metadata_Well\", file_type=\"parquet\"\n",
    "    )\n",
    "    print(f\"Added single cell count as metadata to {pathlib.Path(dest_path).name}!\")"
   ]
  }
 ],
 "metadata": {
  "kernelspec": {
   "display_name": "interstellar_data",
   "language": "python",
   "name": "python3"
  },
  "language_info": {
   "codemirror_mode": {
    "name": "ipython",
    "version": 3
   },
   "file_extension": ".py",
   "mimetype": "text/x-python",
   "name": "python",
   "nbconvert_exporter": "python",
   "pygments_lexer": "ipython3",
   "version": "3.8.15"
  },
  "orig_nbformat": 4
 },
 "nbformat": 4,
 "nbformat_minor": 2
}
