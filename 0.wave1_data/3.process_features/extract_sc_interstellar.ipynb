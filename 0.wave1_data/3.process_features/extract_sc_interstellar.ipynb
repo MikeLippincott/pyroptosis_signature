{
 "cells": [
  {
   "attachments": {},
   "cell_type": "markdown",
   "id": "70a2251c-2a69-43f1-92bf-793095abc2cd",
   "metadata": {},
   "source": [
    "# Process single cell morphology features for CellProfiler readouts"
   ]
  },
  {
   "cell_type": "markdown",
   "id": "f7a50486",
   "metadata": {},
   "source": [
    "## Import Libraries"
   ]
  },
  {
   "cell_type": "code",
   "execution_count": 1,
   "id": "eda19789-e60d-47cd-8f07-4a65e14513e4",
   "metadata": {},
   "outputs": [],
   "source": [
    "import pathlib\n",
    "import pandas as pd\n",
    "\n",
    "import sys\n",
    "sys.path.append(\"../../utils/\")\n",
    "import sc_extraction_utils as sc_util"
   ]
  },
  {
   "attachments": {},
   "cell_type": "markdown",
   "id": "5f3929d2",
   "metadata": {},
   "source": [
    "## Set up paths to CellProfiler directory and outputs"
   ]
  },
  {
   "cell_type": "code",
   "execution_count": 2,
   "id": "2ed6920e",
   "metadata": {},
   "outputs": [],
   "source": [
    "# Set file and directory constants\n",
    "cp_dir = \"../2.cellprofiler_analysis\"\n",
    "output_dir = \"data\"\n",
    "platemap_file = pathlib.Path(\"../../metadata/Interstellar_platemap.csv\")\n",
    "\n",
    "# dictionary with variables for each dilation\n",
    "dilation_info_dictionary = {\n",
    "    \"dilation_25\": {\n",
    "        \"sql_file\": \"dilate25.sqlite\",\n",
    "        \"sc_output_file\" : pathlib.Path(f\"{output_dir}/dilate25_sc.csv.gz\")\n",
    "    },\n",
    "    \"dilation_50\": {\n",
    "        \"sql_file\": \"dilate50.sqlite\",\n",
    "        \"sc_output_file\" : pathlib.Path(f\"{output_dir}/dilate50_sc.csv.gz\")\n",
    "    },\n",
    "    \"dilation_75\": {\n",
    "        \"sql_file\": \"dilate75.sqlite\",\n",
    "        \"sc_output_file\" : pathlib.Path(f\"{output_dir}/dilate75_sc.csv.gz\")\n",
    "    },\n",
    "}"
   ]
  },
  {
   "cell_type": "code",
   "execution_count": 3,
   "id": "7bc0baa6",
   "metadata": {},
   "outputs": [],
   "source": [
    "# Define custom linking columns between compartments\n",
    "linking_cols = {\n",
    "    \"Per_TranslocatedNuclei\": {\n",
    "        \"Per_DilatedNuclei\": \"TranslocatedNuclei_Parent_DilatedNuclei\",\n",
    "        \"Per_Nuclei\": \"TranslocatedNuclei_Parent_Nuclei\",\n",
    "    },\n",
    "    \"Per_DilatedNuclei\": {\"Per_TranslocatedNuclei\": \"DilatedNuclei_Number_Object_Number\"},\n",
    "    \"Per_Nuclei\": {\"Per_TranslocatedNuclei\": \"Nuclei_Number_Object_Number\"},\n",
    "}"
   ]
  },
  {
   "cell_type": "code",
   "execution_count": 4,
   "id": "efe02134",
   "metadata": {},
   "outputs": [
    {
     "data": {
      "text/html": [
       "<div>\n",
       "<style scoped>\n",
       "    .dataframe tbody tr th:only-of-type {\n",
       "        vertical-align: middle;\n",
       "    }\n",
       "\n",
       "    .dataframe tbody tr th {\n",
       "        vertical-align: top;\n",
       "    }\n",
       "\n",
       "    .dataframe thead th {\n",
       "        text-align: right;\n",
       "    }\n",
       "</style>\n",
       "<table border=\"1\" class=\"dataframe\">\n",
       "  <thead>\n",
       "    <tr style=\"text-align: right;\">\n",
       "      <th></th>\n",
       "      <th>well</th>\n",
       "      <th>wellName</th>\n",
       "      <th>row</th>\n",
       "      <th>col</th>\n",
       "      <th>alias</th>\n",
       "      <th>treatment</th>\n",
       "      <th>dose</th>\n",
       "    </tr>\n",
       "  </thead>\n",
       "  <tbody>\n",
       "    <tr>\n",
       "      <th>0</th>\n",
       "      <td>A01</td>\n",
       "      <td>A1</td>\n",
       "      <td>1</td>\n",
       "      <td>1</td>\n",
       "      <td>1</td>\n",
       "      <td>LPS</td>\n",
       "      <td>10µg/ml</td>\n",
       "    </tr>\n",
       "    <tr>\n",
       "      <th>1</th>\n",
       "      <td>B01</td>\n",
       "      <td>B1</td>\n",
       "      <td>2</td>\n",
       "      <td>1</td>\n",
       "      <td>2</td>\n",
       "      <td>LPS</td>\n",
       "      <td>1µg/ml</td>\n",
       "    </tr>\n",
       "    <tr>\n",
       "      <th>2</th>\n",
       "      <td>C01</td>\n",
       "      <td>C1</td>\n",
       "      <td>3</td>\n",
       "      <td>1</td>\n",
       "      <td>3</td>\n",
       "      <td>H2O2</td>\n",
       "      <td>500µM</td>\n",
       "    </tr>\n",
       "    <tr>\n",
       "      <th>3</th>\n",
       "      <td>D01</td>\n",
       "      <td>D1</td>\n",
       "      <td>4</td>\n",
       "      <td>1</td>\n",
       "      <td>4</td>\n",
       "      <td>H2O2</td>\n",
       "      <td>50µM</td>\n",
       "    </tr>\n",
       "    <tr>\n",
       "      <th>4</th>\n",
       "      <td>E01</td>\n",
       "      <td>E1</td>\n",
       "      <td>5</td>\n",
       "      <td>1</td>\n",
       "      <td>5</td>\n",
       "      <td>ATP</td>\n",
       "      <td>1mM</td>\n",
       "    </tr>\n",
       "  </tbody>\n",
       "</table>\n",
       "</div>"
      ],
      "text/plain": [
       "  well wellName  row  col  alias treatment     dose\n",
       "0  A01       A1    1    1      1       LPS  10µg/ml\n",
       "1  B01       B1    2    1      2       LPS   1µg/ml\n",
       "2  C01       C1    3    1      3      H2O2    500µM\n",
       "3  D01       D1    4    1      4      H2O2     50µM\n",
       "4  E01       E1    5    1      5       ATP      1mM"
      ]
     },
     "execution_count": 4,
     "metadata": {},
     "output_type": "execute_result"
    }
   ],
   "source": [
    "# Load platemap file\n",
    "platemap_df = pd.read_csv(platemap_file)\n",
    "platemap_df.head()"
   ]
  },
  {
   "cell_type": "code",
   "execution_count": 5,
   "id": "745502a5",
   "metadata": {},
   "outputs": [
    {
     "name": "stderr",
     "output_type": "stream",
     "text": [
      "/home/jenna/anaconda3/envs/interstellar_data/lib/python3.8/site-packages/pycytominer/cyto_utils/util.py:61: UserWarning: Non-canonical compartment detected: per_dilatednuclei, per_translocatednuclei, per_nuclei\n",
      "  warnings.warn(warn_str)\n",
      "/home/jenna/pyroptosis_signature/0.wave1_data/3.process_features/../../utils/sc_extraction_utils.py:23: DtypeWarning: Columns (5) have mixed types. Specify dtype option on import or set low_memory=False.\n",
      "  data_df = pd.read_csv(data_path, compression=\"gzip\")\n",
      "/home/jenna/anaconda3/envs/interstellar_data/lib/python3.8/site-packages/pycytominer/cyto_utils/util.py:61: UserWarning: Non-canonical compartment detected: per_dilatednuclei, per_translocatednuclei, per_nuclei\n",
      "  warnings.warn(warn_str)\n",
      "/home/jenna/pyroptosis_signature/0.wave1_data/3.process_features/../../utils/sc_extraction_utils.py:23: DtypeWarning: Columns (5) have mixed types. Specify dtype option on import or set low_memory=False.\n",
      "  data_df = pd.read_csv(data_path, compression=\"gzip\")\n",
      "/home/jenna/anaconda3/envs/interstellar_data/lib/python3.8/site-packages/pycytominer/cyto_utils/util.py:61: UserWarning: Non-canonical compartment detected: per_dilatednuclei, per_translocatednuclei, per_nuclei\n",
      "  warnings.warn(warn_str)\n",
      "/home/jenna/pyroptosis_signature/0.wave1_data/3.process_features/../../utils/sc_extraction_utils.py:23: DtypeWarning: Columns (5) have mixed types. Specify dtype option on import or set low_memory=False.\n",
      "  data_df = pd.read_csv(data_path, compression=\"gzip\")\n"
     ]
    }
   ],
   "source": [
    "for dilation, info in dilation_info_dictionary.items():\n",
    "    # set the parameters for the function as variables based on the dilation dictionary info\n",
    "    method_name = dilation\n",
    "    sql_file = info[\"sql_file\"]\n",
    "    single_cell_file =  f\"sqlite:///{cp_dir}/analysis_output/{sql_file}\"\n",
    "\n",
    "    # run CP analysis for each dilation\n",
    "    sc_util.extract_single_cells(\n",
    "        single_cell_file=single_cell_file,\n",
    "        linking_cols=linking_cols,\n",
    "        platemap_df=platemap_df,\n",
    "        output_folder=output_dir,\n",
    "        method_name=method_name,\n",
    "    )"
   ]
  }
 ],
 "metadata": {
  "kernelspec": {
   "display_name": "3.process_features_interstellar",
   "language": "python",
   "name": "python3"
  },
  "language_info": {
   "codemirror_mode": {
    "name": "ipython",
    "version": 3
   },
   "file_extension": ".py",
   "mimetype": "text/x-python",
   "name": "python",
   "nbconvert_exporter": "python",
   "pygments_lexer": "ipython3",
   "version": "3.8.15"
  },
  "vscode": {
   "interpreter": {
    "hash": "a9a6a740aa4213fb61fff9d59c8614dd9e778be7e45f56c001786329f9d3ef80"
   }
  }
 },
 "nbformat": 4,
 "nbformat_minor": 5
}
