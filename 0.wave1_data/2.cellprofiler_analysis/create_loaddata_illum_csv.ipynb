{
 "cells": [
  {
   "attachments": {},
   "cell_type": "markdown",
   "metadata": {},
   "source": [
    "# Create LoadData with illumination correction functions csv for CellProfiler"
   ]
  },
  {
   "attachments": {},
   "cell_type": "markdown",
   "metadata": {},
   "source": [
    "## Import libraries"
   ]
  },
  {
   "cell_type": "code",
   "execution_count": 1,
   "metadata": {},
   "outputs": [],
   "source": [
    "import os\n",
    "import pathlib\n",
    "\n",
    "import sys\n",
    "sys.path.append(\"../../utils\")\n",
    "import loaddata_utils as ld"
   ]
  },
  {
   "attachments": {},
   "cell_type": "markdown",
   "metadata": {},
   "source": [
    "## Set paths\n",
    "\n",
    "**Note:** All paths must be absolute since CellProfiler will need to find the images based on your local machine. Please change the `/home/jenna` part of the path to reflect your machine."
   ]
  },
  {
   "cell_type": "code",
   "execution_count": 2,
   "metadata": {},
   "outputs": [],
   "source": [
    "index_directory = pathlib.Path(\"/home/jenna/Interstellar_Project/0.wave1_data/0.download_data/70117_20230118MM1_AbTest_V2__2023-01-25T16_44_54-Measurement1/Images\")\n",
    "config_path = pathlib.Path(\"/home/jenna/Interstellar_Project/0.wave1_data/1.cellprofiler_ic_processing/config.yml\")\n",
    "path_to_output = pathlib.Path(\"/home/jenna/Interstellar_Project/0.wave1_data/1.cellprofiler_ic_processing/wave1_loaddata.csv\")\n",
    "illum_directory = pathlib.Path(\"/home/jenna/Interstellar_Project/0.wave1_data/1.cellprofiler_ic_processing/illum_directory\")\n",
    "plate_id = \"70117_20230118MM1_AbTest_V2\"\n",
    "illum_output_path = pathlib.Path(\"/home/jenna/Interstellar_Project/0.wave1_data/2.cellprofiler_analysis/wave1_loaddata_with_illum.csv\")"
   ]
  },
  {
   "attachments": {},
   "cell_type": "markdown",
   "metadata": {},
   "source": [
    "## Create the LoadData csv with illum correction functions"
   ]
  },
  {
   "cell_type": "code",
   "execution_count": 3,
   "metadata": {},
   "outputs": [
    {
     "name": "stdout",
     "output_type": "stream",
     "text": [
      "wave1_loaddata_with_illum.csv is created!\n"
     ]
    }
   ],
   "source": [
    "ld.create_loaddata_illum_csv(index_directory, config_path, path_to_output, illum_directory, plate_id, illum_output_path)"
   ]
  }
 ],
 "metadata": {
  "kernelspec": {
   "display_name": "pe2loaddata",
   "language": "python",
   "name": "python3"
  },
  "language_info": {
   "codemirror_mode": {
    "name": "ipython",
    "version": 3
   },
   "file_extension": ".py",
   "mimetype": "text/x-python",
   "name": "python",
   "nbconvert_exporter": "python",
   "pygments_lexer": "ipython3",
   "version": "3.9.12"
  },
  "orig_nbformat": 4,
  "vscode": {
   "interpreter": {
    "hash": "8e682b7bd16cdbc4be2393bc1b1eed6b87cf8a0c86d477c0593cdffdecdf8222"
   }
  }
 },
 "nbformat": 4,
 "nbformat_minor": 2
}
